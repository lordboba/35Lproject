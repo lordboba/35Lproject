{
 "cells": [
  {
   "cell_type": "code",
   "execution_count": 46,
   "metadata": {},
   "outputs": [],
   "source": [
    "import requests\n",
    "import asyncio\n",
    "import json\n",
    "import websockets\n",
    "\n",
    "BASE_URL = \"http://localhost:8000\" \n",
    "\n",
    "def add_user(firebase_uid: str, name: str):\n",
    "    user_model = {\"firebase_uid\": firebase_uid, \"name\": name}\n",
    "    response = requests.post(f\"{BASE_URL}/users/\", json=user_model)\n",
    "    return response.status_code, response.json()\n",
    "\n",
    "def get_users():\n",
    "    response = requests.get(f\"{BASE_URL}/users/\")\n",
    "    return response.status_code, response.json()\n",
    "\n",
    "def get_user(id: str):\n",
    "    response = requests.get(f\"{BASE_URL}/users/{id}\")\n",
    "    return response.status_code, response.json()\n",
    "\n",
    "def get_user_name(name: str):\n",
    "    response = requests.get(f\"{BASE_URL}/users/name/{name}\")\n",
    "    return response.status_code, response.json()\n",
    "\n",
    "def update_user(id: str, name: str):\n",
    "    response = requests.put(f\"{BASE_URL}/users/{id}\", json={\"name\": name})\n",
    "    return response.status_code, response.json()\n",
    "\n",
    "def delete_user(id: str):\n",
    "    response = requests.delete(f\"{BASE_URL}/users/{id}\")\n",
    "    return response.status_code\n",
    "\n",
    "def get_games():\n",
    "    response = requests.get(f\"{BASE_URL}/games/\")\n",
    "    return response.status_code, response.json()\n",
    "\n",
    "def create_game(name: str, game_type: str):\n",
    "    response = requests.post(f\"{BASE_URL}/games/\", json={\"name\": name, \"type\": game_type})\n",
    "    return response.status_code, response.json()\n",
    "\n",
    "def add_user_to_game(game_id: str, user_id: str):\n",
    "    response = requests.patch(f\"{BASE_URL}/games/{game_id}/add_user/{user_id}\")\n",
    "    return response.status_code, response.json()\n",
    "\n",
    "def remove_user_from_game(game_id: str, user_id: str):\n",
    "    response = requests.patch(f\"{BASE_URL}/games/{game_id}/remove_user/{user_id}\")\n",
    "    return response.status_code, response.json()\n",
    "\n",
    "def start_game(game_id: str):\n",
    "    response = requests.patch(f\"{BASE_URL}/games/{game_id}/start\")\n",
    "    return response.status_code\n",
    "\n",
    "def delete_game(game_id: str):\n",
    "    response = requests.delete(f\"{BASE_URL}/games/{game_id}\")\n",
    "    return response.status_code\n",
    "\n",
    "async def listen(game_id):\n",
    "    uri = f\"ws://localhost:8000/game/ws/{game_id}\"  # Replace with your server URL\n",
    "    async with websockets.connect(uri) as websocket:\n",
    "        print(\"Connected to WebSocket\")\n",
    "        while True:\n",
    "            message = await websocket.recv()\n",
    "            data = json.loads(message)\n",
    "            print(data)\n",
    "\n",
    "def get_active_games():\n",
    "    response = requests.get(f\"{BASE_URL}/games/active\")\n",
    "    return response.status_code, response.json()\n",
    "\n",
    "def get_active_game_debug(game_id: str):\n",
    "    response = requests.get(f\"{BASE_URL}/games/active/{game_id}/debug\")\n",
    "    return response.status_code, response.json()\n",
    "\n",
    "def play_turn(game_id: str, player_id: str, turn_type: int, sender_id: str, receiver_id: str, cards: list[str]):\n",
    "    suit_dict = {\"J\":0, \"C\":1, \"D\":2, \"H\":3, \"S\":4}\n",
    "    rank_dict = {\"0\":0, \"A\":1, \"2\":2, \"3\":3, \"4\":4, \"5\":5, \"6\":6, \"7\":7, \"8\":8, \"9\":9, \"T\":10, \"J\":11, \"Q\":12, \"K\":13}\n",
    "    turn = {\"player\":player_id, \"transactions\":[{\"sender\":sender_id, \"receiver\":receiver_id, \"card\":{\"rank\":rank_dict[card[0]], \"suit\":suit_dict[card[1]]}, \"success\":True} for card in cards], \"type\":turn_type}\n",
    "    response = requests.patch(f\"{BASE_URL}/games/{game_id}/play\", json=turn)\n",
    "    return response.status_code"
   ]
  },
  {
   "cell_type": "code",
   "execution_count": 47,
   "metadata": {},
   "outputs": [
    {
     "name": "stdout",
     "output_type": "stream",
     "text": [
      "683b6afde1cdd0e56b524ce0\n"
     ]
    }
   ],
   "source": [
    "# Create vietcong game\n",
    "_, game_dict = create_game(\"vietcongtest\", \"vietcong\")\n",
    "print(game_dict[\"id\"])"
   ]
  },
  {
   "cell_type": "code",
   "execution_count": 48,
   "metadata": {},
   "outputs": [
    {
     "name": "stdout",
     "output_type": "stream",
     "text": [
      "['683a992ed4b1bfdc5b2faa4c', '683a992ed4b1bfdc5b2faa4d', '683a992ed4b1bfdc5b2faa4e', '683a992ed4b1bfdc5b2faa4f']\n"
     ]
    }
   ],
   "source": [
    "ids = []\n",
    "for user in [\"vietcongp1\", \"vietcongp2\", \"vietcongp3\", \"vietcongp4\"]:\n",
    "    status, resp = add_user(user, user)\n",
    "    if 'id' in resp:\n",
    "        ids.append(resp['id'])\n",
    "    else:\n",
    "        # Fallback: try to fetch the existing user's info\n",
    "        status, user_obj = get_user_name(user)\n",
    "        ids.append(user_obj['id'])\n",
    "print(ids)\n"
   ]
  },
  {
   "cell_type": "code",
   "execution_count": 49,
   "metadata": {},
   "outputs": [],
   "source": [
    "for id in ids:\n",
    "    add_user_to_game(game_dict[\"id\"], id)"
   ]
  },
  {
   "cell_type": "code",
   "execution_count": 50,
   "metadata": {},
   "outputs": [
    {
     "name": "stdout",
     "output_type": "stream",
     "text": [
      "683b6afde1cdd0e56b524ce0\n"
     ]
    }
   ],
   "source": [
    "start_game(game_dict[\"id\"])\n",
    "print(game_dict[\"id\"])"
   ]
  },
  {
   "cell_type": "code",
   "execution_count": 56,
   "metadata": {},
   "outputs": [
    {
     "name": "stdout",
     "output_type": "stream",
     "text": [
      "(200, ['683a992ed4b1bfdc5b2faa4c: 5H', '683a992ed4b1bfdc5b2faa4c: 8D', '683a992ed4b1bfdc5b2faa4c: 4H', '683a992ed4b1bfdc5b2faa4c: TH', '683a992ed4b1bfdc5b2faa4c: 8C', '683a992ed4b1bfdc5b2faa4c: 9C', '683a992ed4b1bfdc5b2faa4c: JD', '683a992ed4b1bfdc5b2faa4c: 6S', '683a992ed4b1bfdc5b2faa4c: 7S', '683a992ed4b1bfdc5b2faa4c: 6D', '683a992ed4b1bfdc5b2faa4c: 2D', '683a992ed4b1bfdc5b2faa4c: 2C', '683a992ed4b1bfdc5b2faa4c: AC', '683a992ed4b1bfdc5b2faa4d: TS', '683a992ed4b1bfdc5b2faa4d: 7C', '683a992ed4b1bfdc5b2faa4d: 2H', '683a992ed4b1bfdc5b2faa4d: QD', '683a992ed4b1bfdc5b2faa4d: 4D', '683a992ed4b1bfdc5b2faa4d: 8H', '683a992ed4b1bfdc5b2faa4d: JS', '683a992ed4b1bfdc5b2faa4d: AD', '683a992ed4b1bfdc5b2faa4d: KC', '683a992ed4b1bfdc5b2faa4d: 9H', '683a992ed4b1bfdc5b2faa4d: TD', '683a992ed4b1bfdc5b2faa4d: 4C', '683a992ed4b1bfdc5b2faa4d: 2S', '683a992ed4b1bfdc5b2faa4e: JH', '683a992ed4b1bfdc5b2faa4e: 3D', '683a992ed4b1bfdc5b2faa4e: 5C', '683a992ed4b1bfdc5b2faa4e: QC', '683a992ed4b1bfdc5b2faa4e: QS', '683a992ed4b1bfdc5b2faa4e: 7H', '683a992ed4b1bfdc5b2faa4e: 3H', '683a992ed4b1bfdc5b2faa4e: 5S', '683a992ed4b1bfdc5b2faa4e: QH', '683a992ed4b1bfdc5b2faa4e: KS', '683a992ed4b1bfdc5b2faa4e: 3C', '683a992ed4b1bfdc5b2faa4e: 6H', '683a992ed4b1bfdc5b2faa4e: 9S', '683a992ed4b1bfdc5b2faa4f: AS', '683a992ed4b1bfdc5b2faa4f: 8S', '683a992ed4b1bfdc5b2faa4f: KH', '683a992ed4b1bfdc5b2faa4f: JC', '683a992ed4b1bfdc5b2faa4f: 4S', '683a992ed4b1bfdc5b2faa4f: TC', '683a992ed4b1bfdc5b2faa4f: 7D', '683a992ed4b1bfdc5b2faa4f: 5D', '683a992ed4b1bfdc5b2faa4f: KD', '683a992ed4b1bfdc5b2faa4f: 9D', '683a992ed4b1bfdc5b2faa4f: AH', '683a992ed4b1bfdc5b2faa4f: 6C', 'pile: 3S'])\n"
     ]
    }
   ],
   "source": [
    "print(get_active_game_debug(game_dict[\"id\"]))"
   ]
  },
  {
   "cell_type": "code",
   "execution_count": 57,
   "metadata": {},
   "outputs": [
    {
     "name": "stdout",
     "output_type": "stream",
     "text": [
      "400\n"
     ]
    }
   ],
   "source": [
    "print(play_turn(game_dict[\"id\"], ids[3], 0, ids[3], \"pile\", [\"3S\"]))"
   ]
  }
 ],
 "metadata": {
  "kernelspec": {
   "display_name": ".venv",
   "language": "python",
   "name": "python3"
  },
  "language_info": {
   "codemirror_mode": {
    "name": "ipython",
    "version": 3
   },
   "file_extension": ".py",
   "mimetype": "text/x-python",
   "name": "python",
   "nbconvert_exporter": "python",
   "pygments_lexer": "ipython3",
   "version": "3.12.3"
  }
 },
 "nbformat": 4,
 "nbformat_minor": 2
}
