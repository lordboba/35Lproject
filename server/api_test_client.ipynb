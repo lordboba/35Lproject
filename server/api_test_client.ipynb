{
 "cells": [
  {
   "cell_type": "code",
   "execution_count": 53,
   "id": "46922076",
   "metadata": {},
   "outputs": [],
   "source": [
    "import requests\n",
    "\n",
    "BASE_URL = \"http://localhost:8000\" \n",
    "\n",
    "def add_user(firebase_uid: str, name: str):\n",
    "    user_model = {\"firebase_uid\": firebase_uid, \"name\": name}\n",
    "    response = requests.post(f\"{BASE_URL}/users/\", json=user_model)\n",
    "    return response.status_code, response.json()\n",
    "\n",
    "def get_users():\n",
    "    response = requests.get(f\"{BASE_URL}/users/\")\n",
    "    return response.status_code, response.json()\n",
    "\n",
    "def get_user(id: str):\n",
    "    response = requests.get(f\"{BASE_URL}/users/{id}\")\n",
    "    return response.status_code, response.json()\n",
    "\n",
    "def update_user(id: str, name: str):\n",
    "    response = requests.put(f\"{BASE_URL}/users/{id}\", json={\"name\": name})\n",
    "    return response.status_code, response.json()\n",
    "\n",
    "def delete_user(id: str):\n",
    "    response = requests.delete(f\"{BASE_URL}/users/{id}\")\n",
    "    return response.status_code\n",
    "\n",
    "def get_games():\n",
    "    response = requests.get(f\"{BASE_URL}/games/\")\n",
    "    return response.status_code, response.json()\n",
    "\n",
    "def create_game(name: str, game_type: str):\n",
    "    response = requests.post(f\"{BASE_URL}/games/\", json={\"name\": name, \"type\": game_type})\n",
    "    return response.status_code, response.json()\n",
    "\n",
    "def add_user_to_game(game_id: str, user_id: str):\n",
    "    response = requests.patch(f\"{BASE_URL}/games/{game_id}/add_user/{user_id}\")\n",
    "    return response.status_code, response.json()\n",
    "\n",
    "def remove_user_from_game(game_id: str, user_id: str):\n",
    "    response = requests.patch(f\"{BASE_URL}/games/{game_id}/remove_user/{user_id}\")\n",
    "    return response.status_code, response.json()\n",
    "\n",
    "def start_game(game_id: str):\n",
    "    response = requests.patch(f\"{BASE_URL}/games/{game_id}/start\")\n",
    "    return response.status_code\n",
    "\n",
    "\n",
    "\n"
   ]
  },
  {
   "cell_type": "code",
   "execution_count": 8,
   "id": "e11e063a",
   "metadata": {},
   "outputs": [
    {
     "name": "stdout",
     "output_type": "stream",
     "text": [
      "(201, {'id': '682e907f9ead523f1a672ee0', 'firebase_uid': '12345test', 'name': 'ethantest', 'games': 0, 'wins': 0, 'username_set': True})\n"
     ]
    }
   ],
   "source": [
    "print(add_user(\"12345test\",\"ethantest\"))"
   ]
  },
  {
   "cell_type": "code",
   "execution_count": 33,
   "id": "4aad997a",
   "metadata": {},
   "outputs": [
    {
     "name": "stdout",
     "output_type": "stream",
     "text": [
      "(200, {'users': [{'id': '681fdb709d14dcc91d530575', 'firebase_uid': 'dJ84cRICX2MtkzOi9ceaK333QPQ2', 'name': 'lordboba', 'games': 0, 'wins': 0, 'username_set': True}, {'id': '6826db221601e717a6843e86', 'firebase_uid': 'abc123firebase', 'name': 'cool_user', 'games': 0, 'wins': 0, 'username_set': True}, {'id': '6826dce6e8bce8f5a061dfdc', 'firebase_uid': 'test-uid-123', 'name': None, 'games': 0, 'wins': 0, 'username_set': False}, {'id': '6826dd2b1601e717a6843e87', 'firebase_uid': 'hkrwtgoIy7bJRttAASiFyLCtkUs1', 'name': 'ethan', 'games': 0, 'wins': 0, 'username_set': True}, {'id': '68277f750a9dcc37ba836316', 'firebase_uid': 'abc456firebase', 'name': 'cool_user2', 'games': 0, 'wins': 0, 'username_set': True}]})\n"
     ]
    }
   ],
   "source": [
    "print(get_users())"
   ]
  },
  {
   "cell_type": "code",
   "execution_count": 16,
   "id": "8d5110c8",
   "metadata": {},
   "outputs": [
    {
     "name": "stdout",
     "output_type": "stream",
     "text": [
      "(200, {'id': '682e907f9ead523f1a672ee0', 'firebase_uid': '12345test', 'name': 'ethantest', 'games': 0, 'wins': 0, 'username_set': True})\n"
     ]
    }
   ],
   "source": [
    "print(get_user(\"682e907f9ead523f1a672ee0\"))"
   ]
  },
  {
   "cell_type": "code",
   "execution_count": 18,
   "id": "011026cf",
   "metadata": {},
   "outputs": [
    {
     "name": "stdout",
     "output_type": "stream",
     "text": [
      "(200, {'id': '682e907f9ead523f1a672ee0', 'firebase_uid': '12345test', 'name': 'ethantest2', 'games': 0, 'wins': 0, 'username_set': True})\n"
     ]
    }
   ],
   "source": [
    "print(update_user(\"682e907f9ead523f1a672ee0\",\"ethantest2\"))"
   ]
  },
  {
   "cell_type": "code",
   "execution_count": 22,
   "id": "9d3d2858",
   "metadata": {},
   "outputs": [
    {
     "name": "stdout",
     "output_type": "stream",
     "text": [
      "(404, {'detail': 'User 682e907f9ead523f1a672ee0 not found'})\n"
     ]
    }
   ],
   "source": [
    "print(delete_user(\"682e907f9ead523f1a672ee0\"))"
   ]
  },
  {
   "cell_type": "code",
   "execution_count": 55,
   "id": "cdf54b6a",
   "metadata": {},
   "outputs": [
    {
     "name": "stdout",
     "output_type": "stream",
     "text": [
      "(200, {'games': []})\n"
     ]
    }
   ],
   "source": [
    "print(get_games())"
   ]
  },
  {
   "cell_type": "code",
   "execution_count": 31,
   "id": "d604de1b",
   "metadata": {},
   "outputs": [
    {
     "name": "stdout",
     "output_type": "stream",
     "text": [
      "(200, {'id': '682e9cda9ead523f1a672ee1', 'name': 'ethantestgame', 'type': 'simple', 'players': []})\n"
     ]
    }
   ],
   "source": [
    "print(create_game(\"ethantestgame\", \"simple\"))"
   ]
  },
  {
   "cell_type": "code",
   "execution_count": 49,
   "id": "fc44e5a2",
   "metadata": {},
   "outputs": [
    {
     "name": "stdout",
     "output_type": "stream",
     "text": [
      "(200, {'id': '682e9cda9ead523f1a672ee1', 'name': 'ethantestgame', 'type': 'simple', 'players': ['681fdb709d14dcc91d530575', '6826db221601e717a6843e86']})\n"
     ]
    }
   ],
   "source": [
    "print(add_user_to_game(\"682e9cda9ead523f1a672ee1\",\"6826db221601e717a6843e86\"))"
   ]
  },
  {
   "cell_type": "code",
   "execution_count": 46,
   "id": "7cc1a15e",
   "metadata": {},
   "outputs": [
    {
     "name": "stdout",
     "output_type": "stream",
     "text": [
      "(200, {'id': '682e9cda9ead523f1a672ee1', 'name': 'ethantestgame', 'type': 'simple', 'players': []})\n"
     ]
    }
   ],
   "source": [
    "print(remove_user_from_game(\"682e9cda9ead523f1a672ee1\",\"681fdb709d14dcc91d530575\"))"
   ]
  },
  {
   "cell_type": "code",
   "execution_count": 54,
   "id": "b19a1bac",
   "metadata": {},
   "outputs": [
    {
     "name": "stdout",
     "output_type": "stream",
     "text": [
      "404\n"
     ]
    }
   ],
   "source": [
    "print(start_game(\"682e9cda9ead523f1a672ee1\"))"
   ]
  }
 ],
 "metadata": {
  "kernelspec": {
   "display_name": "base",
   "language": "python",
   "name": "python3"
  },
  "language_info": {
   "codemirror_mode": {
    "name": "ipython",
    "version": 3
   },
   "file_extension": ".py",
   "mimetype": "text/x-python",
   "name": "python",
   "nbconvert_exporter": "python",
   "pygments_lexer": "ipython3",
   "version": "3.12.4"
  }
 },
 "nbformat": 4,
 "nbformat_minor": 5
}
