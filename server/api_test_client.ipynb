{
 "cells": [
  {
   "cell_type": "code",
   "execution_count": 2,
   "id": "46922076",
   "metadata": {},
   "outputs": [],
   "source": [
    "import requests\n",
    "import asyncio\n",
    "import json\n",
    "import websockets\n",
    "\n",
    "BASE_URL = \"http://localhost:8000\" \n",
    "\n",
    "def add_user(firebase_uid: str, name: str):\n",
    "    user_model = {\"firebase_uid\": firebase_uid, \"name\": name}\n",
    "    response = requests.post(f\"{BASE_URL}/users/\", json=user_model)\n",
    "    return response.status_code, response.json()\n",
    "\n",
    "def get_users():\n",
    "    response = requests.get(f\"{BASE_URL}/users/\")\n",
    "    return response.status_code, response.json()\n",
    "\n",
    "def get_user(id: str):\n",
    "    response = requests.get(f\"{BASE_URL}/users/{id}\")\n",
    "    return response.status_code, response.json()\n",
    "\n",
    "def update_user(id: str, name: str):\n",
    "    response = requests.put(f\"{BASE_URL}/users/{id}\", json={\"name\": name})\n",
    "    return response.status_code, response.json()\n",
    "\n",
    "def delete_user(id: str):\n",
    "    response = requests.delete(f\"{BASE_URL}/users/{id}\")\n",
    "    return response.status_code\n",
    "\n",
    "def get_games():\n",
    "    response = requests.get(f\"{BASE_URL}/games/\")\n",
    "    return response.status_code, response.json()\n",
    "\n",
    "def create_game(name: str, game_type: str):\n",
    "    response = requests.post(f\"{BASE_URL}/games/\", json={\"name\": name, \"type\": game_type})\n",
    "    return response.status_code, response.json()\n",
    "\n",
    "def add_user_to_game(game_id: str, user_id: str):\n",
    "    response = requests.patch(f\"{BASE_URL}/games/{game_id}/add_user/{user_id}\")\n",
    "    return response.status_code, response.json()\n",
    "\n",
    "def remove_user_from_game(game_id: str, user_id: str):\n",
    "    response = requests.patch(f\"{BASE_URL}/games/{game_id}/remove_user/{user_id}\")\n",
    "    return response.status_code, response.json()\n",
    "\n",
    "def start_game(game_id: str):\n",
    "    response = requests.patch(f\"{BASE_URL}/games/{game_id}/start\")\n",
    "    return response.status_code\n",
    "\n",
    "def delete_game(game_id: str):\n",
    "    response = requests.delete(f\"{BASE_URL}/games/{game_id}\")\n",
    "    return response.status_code\n",
    "\n",
    "async def listen(game_id):\n",
    "    uri = f\"ws://localhost:8000/ws/game/{game_id}\"  # Replace with your server URL\n",
    "    async with websockets.connect(uri) as websocket:\n",
    "        print(\"Connected to WebSocket\")\n",
    "        while True:\n",
    "            message = await websocket.recv()\n",
    "            data = json.loads(message)\n",
    "            print(data)\n",
    "\n",
    "def get_active_games():\n",
    "    response = requests.get(f\"{BASE_URL}/games/active\")\n",
    "    return response.status_code, response.json()\n",
    "\n",
    "def get_active_game_debug(game_id: str):\n",
    "    response = requests.get(f\"{BASE_URL}/games/active/{game_id}/debug\")\n",
    "    return response.status_code, response.json()\n",
    "\n",
    "def play_turn(game_id: str, player_id: str, turn_type: int, sender_id: str, receiver_id: str, cards: list[str]):\n",
    "    suit_dict = {\"J\":0, \"C\":1, \"D\":2, \"H\":3, \"S\":4}\n",
    "    rank_dict = {\"0\":0, \"A\":1, \"2\":2, \"3\":3, \"4\":4, \"5\":5, \"6\":6, \"7\":7, \"8\":8, \"9\":9, \"T\":10, \"J\":11, \"Q\":12, \"K\":13}\n",
    "    turn = {\"player\":player_id, \"transactions\":[{\"sender\":sender_id, \"receiver\":receiver_id, \"card\":{\"rank\":rank_dict[card[0]], \"suit\":suit_dict[card[1]]}} for card in cards], \"type\":turn_type}\n",
    "    response = requests.patch(f\"{BASE_URL}/games/{game_id}/play\", json=turn)\n",
    "    return response.status_code\n",
    "            "
   ]
  },
  {
   "cell_type": "code",
   "execution_count": null,
   "id": "e11e063a",
   "metadata": {},
   "outputs": [
    {
     "name": "stdout",
     "output_type": "stream",
     "text": [
      "(201, {'id': '682e907f9ead523f1a672ee0', 'firebase_uid': '12345test', 'name': 'ethantest', 'games': 0, 'wins': 0, 'username_set': True})\n"
     ]
    }
   ],
   "source": [
    "print(add_user(\"12345test\",\"ethantest\"))"
   ]
  },
  {
   "cell_type": "code",
   "execution_count": null,
   "id": "4aad997a",
   "metadata": {},
   "outputs": [
    {
     "name": "stdout",
     "output_type": "stream",
     "text": [
      "(200, {'users': [{'id': '681fdb709d14dcc91d530575', 'firebase_uid': 'dJ84cRICX2MtkzOi9ceaK333QPQ2', 'name': 'lordboba', 'games': 0, 'wins': 0, 'username_set': True}, {'id': '6826db221601e717a6843e86', 'firebase_uid': 'abc123firebase', 'name': 'cool_user', 'games': 0, 'wins': 0, 'username_set': True}, {'id': '6826dce6e8bce8f5a061dfdc', 'firebase_uid': 'test-uid-123', 'name': None, 'games': 0, 'wins': 0, 'username_set': False}, {'id': '6826dd2b1601e717a6843e87', 'firebase_uid': 'hkrwtgoIy7bJRttAASiFyLCtkUs1', 'name': 'ethan', 'games': 0, 'wins': 0, 'username_set': True}, {'id': '68277f750a9dcc37ba836316', 'firebase_uid': 'abc456firebase', 'name': 'cool_user2', 'games': 0, 'wins': 0, 'username_set': True}]})\n"
     ]
    }
   ],
   "source": [
    "print(get_users())"
   ]
  },
  {
   "cell_type": "code",
   "execution_count": null,
   "id": "8d5110c8",
   "metadata": {},
   "outputs": [
    {
     "name": "stdout",
     "output_type": "stream",
     "text": [
      "(200, {'id': '682e907f9ead523f1a672ee0', 'firebase_uid': '12345test', 'name': 'ethantest', 'games': 0, 'wins': 0, 'username_set': True})\n"
     ]
    }
   ],
   "source": [
    "print(get_user(\"682e907f9ead523f1a672ee0\"))"
   ]
  },
  {
   "cell_type": "code",
   "execution_count": null,
   "id": "011026cf",
   "metadata": {},
   "outputs": [
    {
     "name": "stdout",
     "output_type": "stream",
     "text": [
      "(200, {'id': '682e907f9ead523f1a672ee0', 'firebase_uid': '12345test', 'name': 'ethantest2', 'games': 0, 'wins': 0, 'username_set': True})\n"
     ]
    }
   ],
   "source": [
    "print(update_user(\"682e907f9ead523f1a672ee0\",\"ethantest2\"))"
   ]
  },
  {
   "cell_type": "code",
   "execution_count": null,
   "id": "9d3d2858",
   "metadata": {},
   "outputs": [
    {
     "name": "stdout",
     "output_type": "stream",
     "text": [
      "(404, {'detail': 'User 682e907f9ead523f1a672ee0 not found'})\n"
     ]
    }
   ],
   "source": [
    "print(delete_user(\"682e907f9ead523f1a672ee0\"))"
   ]
  },
  {
   "cell_type": "code",
   "execution_count": null,
   "id": "cdf54b6a",
   "metadata": {},
   "outputs": [
    {
     "name": "stdout",
     "output_type": "stream",
     "text": [
      "(200, {'games': [{'id': '682ec12a14dfcbc81a10a3e2', 'name': 'ethantestgame', 'type': 'simple', 'players': ['6826db221601e717a6843e86']}]})\n"
     ]
    }
   ],
   "source": [
    "print(get_games())"
   ]
  },
  {
   "cell_type": "code",
   "execution_count": null,
   "id": "d604de1b",
   "metadata": {},
   "outputs": [
    {
     "name": "stdout",
     "output_type": "stream",
     "text": [
      "(200, {'id': '682ec7a2ca86c0ff48611a0c', 'name': 'ethantestgame', 'type': 'simple', 'players': []})\n"
     ]
    }
   ],
   "source": [
    "print(create_game(\"ethantestgame\", \"simple\"))"
   ]
  },
  {
   "cell_type": "code",
   "execution_count": null,
   "id": "fc44e5a2",
   "metadata": {},
   "outputs": [
    {
     "name": "stdout",
     "output_type": "stream",
     "text": [
      "(400, {'detail': 'Game is already full'})\n"
     ]
    }
   ],
   "source": [
    "print(add_user_to_game(\"682ec12a14dfcbc81a10a3e2\",\"681fdb709d14dcc91d530575\"))"
   ]
  },
  {
   "cell_type": "code",
   "execution_count": null,
   "id": "7cc1a15e",
   "metadata": {},
   "outputs": [
    {
     "name": "stdout",
     "output_type": "stream",
     "text": [
      "(200, {'id': '682e9cda9ead523f1a672ee1', 'name': 'ethantestgame', 'type': 'simple', 'players': []})\n"
     ]
    }
   ],
   "source": [
    "print(remove_user_from_game(\"682e9cda9ead523f1a672ee1\",\"681fdb709d14dcc91d530575\"))"
   ]
  },
  {
   "cell_type": "code",
   "execution_count": null,
   "id": "b19a1bac",
   "metadata": {},
   "outputs": [
    {
     "name": "stdout",
     "output_type": "stream",
     "text": [
      "204\n"
     ]
    }
   ],
   "source": [
    "print(start_game(\"682ec12a14dfcbc81a10a3e2\"))"
   ]
  },
  {
   "cell_type": "code",
   "execution_count": null,
   "id": "2057abfd",
   "metadata": {},
   "outputs": [
    {
     "name": "stdout",
     "output_type": "stream",
     "text": [
      "204\n"
     ]
    }
   ],
   "source": [
    "print(delete_game(\"682ec7a2ca86c0ff48611a0c\"))"
   ]
  },
  {
   "cell_type": "code",
   "execution_count": null,
   "id": "5dddf4ef",
   "metadata": {},
   "outputs": [
    {
     "name": "stdout",
     "output_type": "stream",
     "text": [
      "(200, ['682ecec195cf9dcd02e52c6b'])\n"
     ]
    }
   ],
   "source": [
    "print(get_active_games())"
   ]
  },
  {
   "cell_type": "code",
   "execution_count": null,
   "id": "64e97e53",
   "metadata": {},
   "outputs": [
    {
     "data": {
      "text/plain": [
       "204"
      ]
     },
     "execution_count": 114,
     "metadata": {},
     "output_type": "execute_result"
    }
   ],
   "source": [
    "# Create simple game\n",
    "id1 = \"681fdb709d14dcc91d530575\"\n",
    "id2 = \"6826db221601e717a6843e86\"\n",
    "_, game_dict = create_game(\"ethantestgame\", \"simple\")\n",
    "add_user_to_game(game_dict[\"id\"],id1)\n",
    "add_user_to_game(game_dict[\"id\"],id2)\n",
    "start_game(game_dict[\"id\"])"
   ]
  },
  {
   "cell_type": "code",
   "execution_count": null,
   "id": "d17bd576",
   "metadata": {},
   "outputs": [
    {
     "name": "stdout",
     "output_type": "stream",
     "text": [
      "(200, ['AC', '1C', '2C', '3C', '4C', '5C', '6C', '7C', '8C', '9C'])\n"
     ]
    }
   ],
   "source": [
    "print(get_active_game_debug(game_dict[\"id\"]))"
   ]
  },
  {
   "cell_type": "code",
   "execution_count": null,
   "id": "e53a9dd6",
   "metadata": {},
   "outputs": [],
   "source": [
    "asyncio.run(listen(game_dict[\"id\"]))"
   ]
  },
  {
   "cell_type": "code",
   "execution_count": null,
   "id": "034d0e27",
   "metadata": {},
   "outputs": [
    {
     "ename": "JSONDecodeError",
     "evalue": "Expecting value: line 1 column 1 (char 0)",
     "output_type": "error",
     "traceback": [
      "\u001b[1;31m---------------------------------------------------------------------------\u001b[0m",
      "\u001b[1;31mJSONDecodeError\u001b[0m                           Traceback (most recent call last)",
      "File \u001b[1;32mc:\\Users\\ethan\\anaconda3\\Lib\\site-packages\\requests\\models.py:974\u001b[0m, in \u001b[0;36mResponse.json\u001b[1;34m(self, **kwargs)\u001b[0m\n\u001b[0;32m    973\u001b[0m \u001b[38;5;28;01mtry\u001b[39;00m:\n\u001b[1;32m--> 974\u001b[0m     \u001b[38;5;28;01mreturn\u001b[39;00m complexjson\u001b[38;5;241m.\u001b[39mloads(\u001b[38;5;28mself\u001b[39m\u001b[38;5;241m.\u001b[39mtext, \u001b[38;5;241m*\u001b[39m\u001b[38;5;241m*\u001b[39mkwargs)\n\u001b[0;32m    975\u001b[0m \u001b[38;5;28;01mexcept\u001b[39;00m JSONDecodeError \u001b[38;5;28;01mas\u001b[39;00m e:\n\u001b[0;32m    976\u001b[0m     \u001b[38;5;66;03m# Catch JSON-related errors and raise as requests.JSONDecodeError\u001b[39;00m\n\u001b[0;32m    977\u001b[0m     \u001b[38;5;66;03m# This aliases json.JSONDecodeError and simplejson.JSONDecodeError\u001b[39;00m\n",
      "File \u001b[1;32mc:\\Users\\ethan\\anaconda3\\Lib\\json\\__init__.py:346\u001b[0m, in \u001b[0;36mloads\u001b[1;34m(s, cls, object_hook, parse_float, parse_int, parse_constant, object_pairs_hook, **kw)\u001b[0m\n\u001b[0;32m    343\u001b[0m \u001b[38;5;28;01mif\u001b[39;00m (\u001b[38;5;28mcls\u001b[39m \u001b[38;5;129;01mis\u001b[39;00m \u001b[38;5;28;01mNone\u001b[39;00m \u001b[38;5;129;01mand\u001b[39;00m object_hook \u001b[38;5;129;01mis\u001b[39;00m \u001b[38;5;28;01mNone\u001b[39;00m \u001b[38;5;129;01mand\u001b[39;00m\n\u001b[0;32m    344\u001b[0m         parse_int \u001b[38;5;129;01mis\u001b[39;00m \u001b[38;5;28;01mNone\u001b[39;00m \u001b[38;5;129;01mand\u001b[39;00m parse_float \u001b[38;5;129;01mis\u001b[39;00m \u001b[38;5;28;01mNone\u001b[39;00m \u001b[38;5;129;01mand\u001b[39;00m\n\u001b[0;32m    345\u001b[0m         parse_constant \u001b[38;5;129;01mis\u001b[39;00m \u001b[38;5;28;01mNone\u001b[39;00m \u001b[38;5;129;01mand\u001b[39;00m object_pairs_hook \u001b[38;5;129;01mis\u001b[39;00m \u001b[38;5;28;01mNone\u001b[39;00m \u001b[38;5;129;01mand\u001b[39;00m \u001b[38;5;129;01mnot\u001b[39;00m kw):\n\u001b[1;32m--> 346\u001b[0m     \u001b[38;5;28;01mreturn\u001b[39;00m _default_decoder\u001b[38;5;241m.\u001b[39mdecode(s)\n\u001b[0;32m    347\u001b[0m \u001b[38;5;28;01mif\u001b[39;00m \u001b[38;5;28mcls\u001b[39m \u001b[38;5;129;01mis\u001b[39;00m \u001b[38;5;28;01mNone\u001b[39;00m:\n",
      "File \u001b[1;32mc:\\Users\\ethan\\anaconda3\\Lib\\json\\decoder.py:337\u001b[0m, in \u001b[0;36mJSONDecoder.decode\u001b[1;34m(self, s, _w)\u001b[0m\n\u001b[0;32m    333\u001b[0m \u001b[38;5;250m\u001b[39m\u001b[38;5;124;03m\"\"\"Return the Python representation of ``s`` (a ``str`` instance\u001b[39;00m\n\u001b[0;32m    334\u001b[0m \u001b[38;5;124;03mcontaining a JSON document).\u001b[39;00m\n\u001b[0;32m    335\u001b[0m \n\u001b[0;32m    336\u001b[0m \u001b[38;5;124;03m\"\"\"\u001b[39;00m\n\u001b[1;32m--> 337\u001b[0m obj, end \u001b[38;5;241m=\u001b[39m \u001b[38;5;28mself\u001b[39m\u001b[38;5;241m.\u001b[39mraw_decode(s, idx\u001b[38;5;241m=\u001b[39m_w(s, \u001b[38;5;241m0\u001b[39m)\u001b[38;5;241m.\u001b[39mend())\n\u001b[0;32m    338\u001b[0m end \u001b[38;5;241m=\u001b[39m _w(s, end)\u001b[38;5;241m.\u001b[39mend()\n",
      "File \u001b[1;32mc:\\Users\\ethan\\anaconda3\\Lib\\json\\decoder.py:355\u001b[0m, in \u001b[0;36mJSONDecoder.raw_decode\u001b[1;34m(self, s, idx)\u001b[0m\n\u001b[0;32m    354\u001b[0m \u001b[38;5;28;01mexcept\u001b[39;00m \u001b[38;5;167;01mStopIteration\u001b[39;00m \u001b[38;5;28;01mas\u001b[39;00m err:\n\u001b[1;32m--> 355\u001b[0m     \u001b[38;5;28;01mraise\u001b[39;00m JSONDecodeError(\u001b[38;5;124m\"\u001b[39m\u001b[38;5;124mExpecting value\u001b[39m\u001b[38;5;124m\"\u001b[39m, s, err\u001b[38;5;241m.\u001b[39mvalue) \u001b[38;5;28;01mfrom\u001b[39;00m \u001b[38;5;28;01mNone\u001b[39;00m\n\u001b[0;32m    356\u001b[0m \u001b[38;5;28;01mreturn\u001b[39;00m obj, end\n",
      "\u001b[1;31mJSONDecodeError\u001b[0m: Expecting value: line 1 column 1 (char 0)",
      "\nDuring handling of the above exception, another exception occurred:\n",
      "\u001b[1;31mJSONDecodeError\u001b[0m                           Traceback (most recent call last)",
      "Cell \u001b[1;32mIn[115], line 1\u001b[0m\n\u001b[1;32m----> 1\u001b[0m \u001b[38;5;28mprint\u001b[39m(play_turn(game_dict[\u001b[38;5;124m\"\u001b[39m\u001b[38;5;124mid\u001b[39m\u001b[38;5;124m\"\u001b[39m], id1, \u001b[38;5;241m0\u001b[39m, id1, id2, [\u001b[38;5;124m\"\u001b[39m\u001b[38;5;124mAC\u001b[39m\u001b[38;5;124m\"\u001b[39m, \u001b[38;5;124m\"\u001b[39m\u001b[38;5;124m9C\u001b[39m\u001b[38;5;124m\"\u001b[39m]))\n",
      "Cell \u001b[1;32mIn[93], line 75\u001b[0m, in \u001b[0;36mplay_turn\u001b[1;34m(game_id, player_id, turn_type, sender_id, receiver_id, cards)\u001b[0m\n\u001b[0;32m     73\u001b[0m turn \u001b[38;5;241m=\u001b[39m {\u001b[38;5;124m\"\u001b[39m\u001b[38;5;124mplayer\u001b[39m\u001b[38;5;124m\"\u001b[39m:player_id, \u001b[38;5;124m\"\u001b[39m\u001b[38;5;124mtransactions\u001b[39m\u001b[38;5;124m\"\u001b[39m:[{\u001b[38;5;124m\"\u001b[39m\u001b[38;5;124msender\u001b[39m\u001b[38;5;124m\"\u001b[39m:sender_id, \u001b[38;5;124m\"\u001b[39m\u001b[38;5;124mreceiver\u001b[39m\u001b[38;5;124m\"\u001b[39m:receiver_id, \u001b[38;5;124m\"\u001b[39m\u001b[38;5;124mcard\u001b[39m\u001b[38;5;124m\"\u001b[39m:{\u001b[38;5;124m\"\u001b[39m\u001b[38;5;124mrank\u001b[39m\u001b[38;5;124m\"\u001b[39m:rank_dict[card[\u001b[38;5;241m0\u001b[39m]], \u001b[38;5;124m\"\u001b[39m\u001b[38;5;124msuit\u001b[39m\u001b[38;5;124m\"\u001b[39m:suit_dict[card[\u001b[38;5;241m1\u001b[39m]]}} \u001b[38;5;28;01mfor\u001b[39;00m card \u001b[38;5;129;01min\u001b[39;00m cards], \u001b[38;5;124m\"\u001b[39m\u001b[38;5;124mtype\u001b[39m\u001b[38;5;124m\"\u001b[39m:turn_type}\n\u001b[0;32m     74\u001b[0m response \u001b[38;5;241m=\u001b[39m requests\u001b[38;5;241m.\u001b[39mpatch(\u001b[38;5;124mf\u001b[39m\u001b[38;5;124m\"\u001b[39m\u001b[38;5;132;01m{\u001b[39;00mBASE_URL\u001b[38;5;132;01m}\u001b[39;00m\u001b[38;5;124m/games/\u001b[39m\u001b[38;5;132;01m{\u001b[39;00mgame_id\u001b[38;5;132;01m}\u001b[39;00m\u001b[38;5;124m/play\u001b[39m\u001b[38;5;124m\"\u001b[39m, json\u001b[38;5;241m=\u001b[39mturn)\n\u001b[1;32m---> 75\u001b[0m \u001b[38;5;28;01mreturn\u001b[39;00m response\u001b[38;5;241m.\u001b[39mstatus_code, response\u001b[38;5;241m.\u001b[39mjson()\n",
      "File \u001b[1;32mc:\\Users\\ethan\\anaconda3\\Lib\\site-packages\\requests\\models.py:978\u001b[0m, in \u001b[0;36mResponse.json\u001b[1;34m(self, **kwargs)\u001b[0m\n\u001b[0;32m    974\u001b[0m     \u001b[38;5;28;01mreturn\u001b[39;00m complexjson\u001b[38;5;241m.\u001b[39mloads(\u001b[38;5;28mself\u001b[39m\u001b[38;5;241m.\u001b[39mtext, \u001b[38;5;241m*\u001b[39m\u001b[38;5;241m*\u001b[39mkwargs)\n\u001b[0;32m    975\u001b[0m \u001b[38;5;28;01mexcept\u001b[39;00m JSONDecodeError \u001b[38;5;28;01mas\u001b[39;00m e:\n\u001b[0;32m    976\u001b[0m     \u001b[38;5;66;03m# Catch JSON-related errors and raise as requests.JSONDecodeError\u001b[39;00m\n\u001b[0;32m    977\u001b[0m     \u001b[38;5;66;03m# This aliases json.JSONDecodeError and simplejson.JSONDecodeError\u001b[39;00m\n\u001b[1;32m--> 978\u001b[0m     \u001b[38;5;28;01mraise\u001b[39;00m RequestsJSONDecodeError(e\u001b[38;5;241m.\u001b[39mmsg, e\u001b[38;5;241m.\u001b[39mdoc, e\u001b[38;5;241m.\u001b[39mpos)\n",
      "\u001b[1;31mJSONDecodeError\u001b[0m: Expecting value: line 1 column 1 (char 0)"
     ]
    }
   ],
   "source": [
    "print(play_turn(game_dict[\"id\"], id1, 0, id1, id2, [\"AC\", \"9C\"]))"
   ]
  },
  {
   "cell_type": "code",
   "execution_count": null,
   "id": "8bc400d2",
   "metadata": {},
   "outputs": [],
   "source": []
  }
 ],
 "metadata": {
  "kernelspec": {
   "display_name": ".venv",
   "language": "python",
   "name": "python3"
  },
  "language_info": {
   "codemirror_mode": {
    "name": "ipython",
    "version": 3
   },
   "file_extension": ".py",
   "mimetype": "text/x-python",
   "name": "python",
   "nbconvert_exporter": "python",
   "pygments_lexer": "ipython3",
   "version": "3.11.2"
  }
 },
 "nbformat": 4,
 "nbformat_minor": 5
}
