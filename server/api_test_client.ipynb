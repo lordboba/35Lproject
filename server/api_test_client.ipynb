{
 "cells": [
  {
   "cell_type": "code",
   "execution_count": 6,
   "execution_count": 6,
   "id": "46922076",
   "metadata": {},
   "outputs": [],
   "source": [
    "import requests\n",
    "import asyncio\n",
    "import json\n",
    "import websockets\n",
    "\n",
    "BASE_URL = \"http://localhost:8000\" \n",
    "\n",
    "def add_user(firebase_uid: str, name: str):\n",
    "    user_model = {\"firebase_uid\": firebase_uid, \"name\": name}\n",
    "    response = requests.post(f\"{BASE_URL}/users/\", json=user_model)\n",
    "    return response.status_code, response.json()\n",
    "\n",
    "def get_users():\n",
    "    response = requests.get(f\"{BASE_URL}/users/\")\n",
    "    return response.status_code, response.json()\n",
    "\n",
    "def get_user(id: str):\n",
    "    response = requests.get(f\"{BASE_URL}/users/{id}\")\n",
    "    return response.status_code, response.json()\n",
    "\n",
    "def update_user(id: str, name: str):\n",
    "    response = requests.put(f\"{BASE_URL}/users/{id}\", json={\"name\": name})\n",
    "    return response.status_code, response.json()\n",
    "\n",
    "def delete_user(id: str):\n",
    "    response = requests.delete(f\"{BASE_URL}/users/{id}\")\n",
    "    return response.status_code\n",
    "\n",
    "def get_games():\n",
    "    response = requests.get(f\"{BASE_URL}/games/\")\n",
    "    return response.status_code, response.json()\n",
    "\n",
    "def create_game(name: str, game_type: str):\n",
    "    response = requests.post(f\"{BASE_URL}/games/\", json={\"name\": name, \"type\": game_type})\n",
    "    return response.status_code, response.json()\n",
    "\n",
    "def add_user_to_game(game_id: str, user_id: str):\n",
    "    response = requests.patch(f\"{BASE_URL}/games/{game_id}/add_user/{user_id}\")\n",
    "    return response.status_code, response.json()\n",
    "\n",
    "def remove_user_from_game(game_id: str, user_id: str):\n",
    "    response = requests.patch(f\"{BASE_URL}/games/{game_id}/remove_user/{user_id}\")\n",
    "    return response.status_code, response.json()\n",
    "\n",
    "def start_game(game_id: str):\n",
    "    response = requests.patch(f\"{BASE_URL}/games/{game_id}/start\")\n",
    "    return response.status_code\n",
    "\n",
    "def delete_game(game_id: str):\n",
    "    response = requests.delete(f\"{BASE_URL}/games/{game_id}\")\n",
    "    return response.status_code\n",
    "\n",
    "async def listen(game_id):\n",
    "    uri = f\"ws://localhost:8000/game/ws/{game_id}\"  # Replace with your server URL\n",
    "    async with websockets.connect(uri) as websocket:\n",
    "        print(\"Connected to WebSocket\")\n",
    "        while True:\n",
    "            message = await websocket.recv()\n",
    "            data = json.loads(message)\n",
    "            print(data)\n",
    "\n",
    "def get_active_games():\n",
    "    response = requests.get(f\"{BASE_URL}/games/active\")\n",
    "    return response.status_code, response.json()\n",
    "\n",
    "def get_active_game_debug(game_id: str):\n",
    "    response = requests.get(f\"{BASE_URL}/games/active/{game_id}/debug\")\n",
    "    return response.status_code, response.json()\n",
    "\n",
    "def play_turn(game_id: str, player_id: str, turn_type: int, sender_id: str, receiver_id: str, cards: list[str]):\n",
    "    suit_dict = {\"J\":0, \"C\":1, \"D\":2, \"H\":3, \"S\":4}\n",
    "    rank_dict = {\"0\":0, \"A\":1, \"2\":2, \"3\":3, \"4\":4, \"5\":5, \"6\":6, \"7\":7, \"8\":8, \"9\":9, \"T\":10, \"J\":11, \"Q\":12, \"K\":13}\n",
    "    turn = {\"player\":player_id, \"transactions\":[{\"sender\":sender_id, \"receiver\":receiver_id, \"card\":{\"rank\":rank_dict[card[0]], \"suit\":suit_dict[card[1]]}, \"success\":True} for card in cards], \"type\":turn_type}\n",
    "    turn = {\"player\":player_id, \"transactions\":[{\"sender\":sender_id, \"receiver\":receiver_id, \"card\":{\"rank\":rank_dict[card[0]], \"suit\":suit_dict[card[1]]}, \"success\":True} for card in cards], \"type\":turn_type}\n",
    "    response = requests.patch(f\"{BASE_URL}/games/{game_id}/play\", json=turn)\n",
    "    return response.status_code"
    "    return response.status_code"
   ]
  },
  {
   "cell_type": "code",
   "execution_count": null,
   "id": "4bc6bfdc",
   "metadata": {},
   "outputs": [],
   "source": []
  },
  {
   "cell_type": "code",
   "execution_count": 14,
   "id": "e11e063a",
   "metadata": {},
   "outputs": [
    {
     "name": "stdout",
     "output_type": "stream",
     "text": [
      "(409, {'detail': 'User with Firebase UID 12345test already exists.'})\n"
     ]
    }
   ],
   "source": [
    "print(add_user(\"12345test\",\"ethantest\"))"
   ]
  },
  {
   "cell_type": "code",
   "execution_count": 15,
   "id": "4aad997a",
   "metadata": {},
   "outputs": [
    {
     "name": "stdout",
     "output_type": "stream",
     "text": [
      "(200, {'users': [{'id': '681fdb709d14dcc91d530575', 'firebase_uid': 'dJ84cRICX2MtkzOi9ceaK333QPQ2', 'name': 'lordboba', 'games': 0, 'wins': 0, 'username_set': True}, {'id': '6826db221601e717a6843e86', 'firebase_uid': 'abc123firebase', 'name': 'cool_user', 'games': 0, 'wins': 0, 'username_set': True}, {'id': '6826dce6e8bce8f5a061dfdc', 'firebase_uid': 'test-uid-123', 'name': None, 'games': 0, 'wins': 0, 'username_set': False}, {'id': '6826dd2b1601e717a6843e87', 'firebase_uid': 'hkrwtgoIy7bJRttAASiFyLCtkUs1', 'name': 'ethan', 'games': 0, 'wins': 0, 'username_set': True}, {'id': '68277f750a9dcc37ba836316', 'firebase_uid': 'abc456firebase', 'name': 'cool_user2', 'games': 0, 'wins': 0, 'username_set': True}, {'id': '68301436790d5199715e3f23', 'firebase_uid': 'q8VI2Km6zGPl9O4Lxinz7iYe5q22', 'name': 'the_ceo_of_sex', 'games': 0, 'wins': 0, 'username_set': True}, {'id': '6837f791cbffc2471fcdbbde', 'firebase_uid': 'IbV9V4Y8fuPlGvnGptwzSnI3jEI3', 'name': 'test1', 'games': 0, 'wins': 0, 'username_set': True}, {'id': '683a675369ced386983f0fa7', 'firebase_uid': '12345test', 'name': 'ethantest2', 'games': 0, 'wins': 0, 'username_set': True}, {'id': '683a992ed4b1bfdc5b2faa4c', 'firebase_uid': 'vietcongp1', 'name': 'vietcongp1', 'games': 0, 'wins': 0, 'username_set': True}, {'id': '683a992ed4b1bfdc5b2faa4d', 'firebase_uid': 'vietcongp2', 'name': 'vietcongp2', 'games': 0, 'wins': 0, 'username_set': True}, {'id': '683a992ed4b1bfdc5b2faa4e', 'firebase_uid': 'vietcongp3', 'name': 'vietcongp3', 'games': 0, 'wins': 0, 'username_set': True}, {'id': '683a992ed4b1bfdc5b2faa4f', 'firebase_uid': 'vietcongp4', 'name': 'vietcongp4', 'games': 0, 'wins': 0, 'username_set': True}]})\n"
     ]
    }
   ],
   "source": [
    "print(get_users())"
   ]
  },
  {
   "cell_type": "code",
   "execution_count": 15,
   "id": "8d5110c8",
   "metadata": {},
   "outputs": [
    {
     "name": "stdout",
     "output_type": "stream",
     "text": [
      "(404, {'detail': 'User 682e907f9ead523f1a672ee0 not found'})\n"
     ]
    }
   ],
   "source": [
    "print(get_user(\"683a675369ced386983f0fa7\"))"
   ]
  },
  {
   "cell_type": "code",
   "execution_count": 17,
   "id": "011026cf",
   "metadata": {},
   "outputs": [
    {
     "name": "stdout",
     "output_type": "stream",
     "text": [
      "(409, {'detail': \"Username 'ethantest2' already taken.\"})\n"
     ]
    }
   ],
   "source": [
    "print(update_user(\"683a675369ced386983f0fa7\",\"ethantest2\"))"
   ]
  },
  {
   "cell_type": "code",
   "execution_count": 18,
   "id": "9d3d2858",
   "metadata": {},
   "outputs": [
    {
     "name": "stdout",
     "output_type": "stream",
     "text": [
      "404\n"
     ]
    }
   ],
   "source": [
    "print(delete_user(\"6830065c317d37d03524150f\"))"
   ]
  },
  {
   "cell_type": "code",
   "execution_count": 19,
   "id": "cdf54b6a",
   "metadata": {},
   "outputs": [
    {
     "name": "stdout",
     "output_type": "stream",
     "text": [
      "(200, {'games': [{'id': '682ed1647e56583072af0a58', 'name': 'ethantestgame', 'type': 'simple', 'players': ['681fdb709d14dcc91d530575', '6826db221601e717a6843e86']}, {'id': '6830065c317d37d035241510', 'name': 'ethantestgame', 'type': 'simple', 'players': []}, {'id': '68300686317d37d035241512', 'name': 'ethantestgame', 'type': 'simple', 'players': []}, {'id': '6837f44b4e51b439f08f653b', 'name': 'ethantestgame', 'type': 'simple', 'players': ['681fdb709d14dcc91d530575', '6826db221601e717a6843e86']}, {'id': '6837fc534476a894c82e8c97', 'name': 'pookie', 'type': 'standard', 'players': []}, {'id': '68380aef9e81c8d9c16d04fe', 'name': 'pookie', 'type': 'simple', 'players': []}, {'id': '68380af49e81c8d9c16d04ff', 'name': 'pookie', 'type': 'simple', 'players': []}, {'id': '68380b959e81c8d9c16d0500', 'name': 'pookie', 'type': 'simple', 'players': []}, {'id': '683a7bcb751efd34a3fc18b8', 'name': 'ethantestgame', 'type': 'vietcong', 'players': ['681fdb709d14dcc91d530575', '6826db221601e717a6843e86', '6826dce6e8bce8f5a061dfdc', '6826dd2b1601e717a6843e87']}, {'id': '683a8601913f3759bc0751ee', 'name': 'ethantestgame', 'type': 'simple', 'players': []}, {'id': '683a9870d4b1bfdc5b2faa4b', 'name': 'vietcongtest', 'type': 'vietcong', 'players': []}, {'id': '683a9a49d4b1bfdc5b2faa50', 'name': 'vietcongtest', 'type': 'vietcong', 'players': []}, {'id': '683a9af8d4b1bfdc5b2faa51', 'name': 'vietcongtest', 'type': 'vietcong', 'players': []}, {'id': '683aaa9c1027471208eced88', 'name': 'vietcongtest', 'type': 'vietcong', 'players': []}, {'id': '683aab79c50e74746e0069b1', 'name': 'Ethan tran!', 'type': 'simple', 'players': []}, {'id': '683aaba930727f2d599befb2', 'name': 'vietcongtest', 'type': 'vietcong', 'players': ['683a992ed4b1bfdc5b2faa4c', '683a992ed4b1bfdc5b2faa4d', '683a992ed4b1bfdc5b2faa4e', '683a992ed4b1bfdc5b2faa4f']}, {'id': '683aacec06e969ab428e1667', 'name': 'pookie tran', 'type': 'simple', 'players': []}, {'id': '683aad1b06e969ab428e1668', 'name': 'pookie tran', 'type': 'simple', 'players': []}, {'id': '683aadaddbead893e09c9a90', 'name': 'pookie tran', 'type': 'simple', 'players': []}, {'id': '683aadbfdbead893e09c9a92', 'name': 'kevin du', 'type': 'simple', 'players': []}, {'id': '683aadcadbead893e09c9a93', 'name': 'pookie', 'type': 'simple', 'players': []}, {'id': '683aadfbdbead893e09c9a94', 'name': 'pookie', 'type': 'simple', 'players': []}, {'id': '683aaf2599235cbbc3edc38d', 'name': 'ethantestgame', 'type': 'fish', 'players': ['681fdb709d14dcc91d530575', '6826db221601e717a6843e86', '6826dce6e8bce8f5a061dfdc', '6826dd2b1601e717a6843e87', '68277f750a9dcc37ba836316', '68301436790d5199715e3f23']}, {'id': '683aaf40dbead893e09c9a95', 'name': 'pookie tran tran', 'type': 'simple', 'players': []}, {'id': '683aafcd439224184f6b4d77', 'name': 'pookie tran tran', 'type': 'simple', 'players': []}, {'id': '683ab08b72bb2f157b70464d', 'name': 'simple', 'type': 'simple', 'players': []}, {'id': '683ab11772bb2f157b70464e', 'name': 'simple', 'type': 'simple', 'players': []}, {'id': '683ab14a60392f0736696219', 'name': 'vietcongtest', 'type': 'vietcong', 'players': []}, {'id': '683ab1a62f8403fba4e7b8c0', 'name': 'simple front', 'type': 'simple', 'players': ['681fdb709d14dcc91d530575']}, {'id': '683ab3991308b31429976081', 'name': 'pookies', 'type': 'simple', 'players': ['681fdb709d14dcc91d530575']}, {'id': '683ab401d155bf861d113f8d', 'name': 'Reice', 'type': 'simple', 'players': ['681fdb709d14dcc91d530575']}, {'id': '683ab462d155bf861d113f8f', 'name': 'jesus!', 'type': 'simple', 'players': []}, {'id': '683ab4a5e07b6e83904922d5', 'name': 'jesus!', 'type': 'simple', 'players': []}, {'id': '683ab4ac5710e81586017c18', 'name': 'jesus!', 'type': 'simple', 'players': []}, {'id': '683ab4c09f221d33ef882191', 'name': 'jesus!', 'type': 'simple', 'players': []}, {'id': '683ab4c79f221d33ef882192', 'name': 'paco', 'type': 'simple', 'players': []}, {'id': '683ab5365c668e1e4e6eb115', 'name': 'paco', 'type': 'simple', 'players': []}, {'id': '683ab585c36e620217fac029', 'name': 'jefferson', 'type': 'simple', 'players': []}, {'id': '683ab587c36e620217fac02a', 'name': 'jefferson', 'type': 'fish', 'players': []}, {'id': '683ab7f71ae7501c669be5fa', 'name': 'vietcongtest', 'type': 'vietcong', 'players': []}, {'id': '683ab87d1ae7501c669be5fc', 'name': 'vietcongtest', 'type': 'vietcong', 'players': []}, {'id': '683ab92802459a1ed76a4497', 'name': 'vietcongtest', 'type': 'vietcong', 'players': ['683a992ed4b1bfdc5b2faa4c', '683a992ed4b1bfdc5b2faa4d', '683a992ed4b1bfdc5b2faa4e', '683a992ed4b1bfdc5b2faa4f']}, {'id': '683abeae02459a1ed76a4499', 'name': 'vietcongtest', 'type': 'vietcong', 'players': []}, {'id': '683abec602459a1ed76a449a', 'name': 'vietcongtest', 'type': 'vietcong', 'players': []}, {'id': '683ac1a902459a1ed76a449b', 'name': 'vietcongtest', 'type': 'vietcong', 'players': []}, {'id': '683ac1bb02459a1ed76a449c', 'name': 'vietcongtest', 'type': 'vietcong', 'players': ['683a992ed4b1bfdc5b2faa4c', '683a992ed4b1bfdc5b2faa4d', '683a992ed4b1bfdc5b2faa4e', '683a992ed4b1bfdc5b2faa4f']}, {'id': '683ac1e87f0175510fe3d50e', 'name': 'jefferson', 'type': 'vietcong', 'players': []}, {'id': '683ac2107f0175510fe3d50f', 'name': 'jefferson', 'type': 'vietcong', 'players': []}, {'id': '683ac2197f0175510fe3d510', 'name': 'jefferson', 'type': 'vietcong', 'players': []}, {'id': '683ac2357f0175510fe3d511', 'name': 'balang', 'type': 'simple', 'players': []}, {'id': '683ac27302459a1ed76a449d', 'name': 'vietcongtest', 'type': 'vietcong', 'players': ['683a992ed4b1bfdc5b2faa4c', '683a992ed4b1bfdc5b2faa4d', '683a992ed4b1bfdc5b2faa4e', '683a992ed4b1bfdc5b2faa4f']}, {'id': '683ac2cb0e7d8d45e71e58c7', 'name': 'balang', 'type': 'simple', 'players': []}, {'id': '683ac2d10e7d8d45e71e58c8', 'name': 'balang', 'type': 'vietcong', 'players': []}, {'id': '683ac2ff0e7d8d45e71e58c9', 'name': 'balang', 'type': 'vietcong', 'players': []}, {'id': '683ac35188d081db7d467ab4', 'name': 'vietcongtest', 'type': 'vietcong', 'players': []}, {'id': '683ac37488d081db7d467ab5', 'name': 'tejtestgame', 'type': 'simple', 'players': []}, {'id': '683ac39388d081db7d467ab6', 'name': 'tejtestgame', 'type': 'simple', 'players': []}, {'id': '683ac39f0e7d8d45e71e58ca', 'name': 'retro', 'type': 'vietcong', 'players': ['681fdb709d14dcc91d530575']}, {'id': '683ac3d188d081db7d467ab7', 'name': 'vietcongtest', 'type': 'vietcong', 'players': []}, {'id': '683ac3ff63301eaf53cd484e', 'name': 'gg', 'type': 'vietcong', 'players': ['681fdb709d14dcc91d530575']}, {'id': '683ac41763301eaf53cd484f', 'name': 'ethantestgame', 'type': 'simple', 'players': ['681fdb709d14dcc91d530575', '6826db221601e717a6843e86']}, {'id': '683ac41873255e3a3aa2a7cc', 'name': 'vietcongtest', 'type': 'vietcong', 'players': ['683a992ed4b1bfdc5b2faa4c', '683a992ed4b1bfdc5b2faa4d', '683a992ed4b1bfdc5b2faa4e', '683a992ed4b1bfdc5b2faa4f']}]})\n"
     ]
    }
   ],
   "source": [
    "print(get_games())"
   ]
  },
  {
   "cell_type": "code",
   "execution_count": 21,
   "id": "d604de1b",
   "metadata": {},
   "outputs": [
    {
     "name": "stdout",
     "output_type": "stream",
     "text": [
      "(200, {'id': '683ac4d073255e3a3aa2a7ce', 'name': 'tejtestgame', 'type': 'simple', 'players': []})\n"
     ]
    }
   ],
   "source": [
    "print(create_game(\"tejtestgame\", \"simple\"))"
   ]
  },
  {
   "cell_type": "code",
   "execution_count": 15,
   "id": "fc44e5a2",
   "metadata": {},
   "outputs": [
    {
     "name": "stdout",
     "output_type": "stream",
     "text": [
      "(400, {'detail': 'User already in game'})\n"
     ]
    }
   ],
   "source": [
    "print(add_user_to_game(\"683a8fa5d4b1bfdc5b2faa46\",\"681fdb709d14dcc91d530575\"))"
   ]
  },
  {
   "cell_type": "code",
   "execution_count": 21,
   "id": "7cc1a15e",
   "metadata": {},
   "outputs": [
    {
     "name": "stdout",
     "output_type": "stream",
     "text": [
      "(404, {'detail': 'Game not found'})\n"
     ]
    }
   ],
   "source": [
    "print(remove_user_from_game(\"683a8fa5d4b1bfdc5b2faa46\",\"681fdb709d14dcc91d530575\"))"
   ]
  },
  {
   "cell_type": "code",
   "execution_count": 17,
   "id": "b19a1bac",
   "metadata": {},
   "outputs": [
    {
     "name": "stdout",
     "output_type": "stream",
     "text": [
      "404\n"
     ]
    }
   ],
   "source": [
    "print(start_game(\"683a8fa5d4b1bfdc5b2faa46\"))"
   ]
  },
  {
   "cell_type": "code",
   "execution_count": 19,
   "execution_count": 19,
   "id": "2057abfd",
   "metadata": {},
   "outputs": [
    {
     "name": "stdout",
     "output_type": "stream",
     "text": [
      "204\n"
      "204\n"
     ]
    }
   ],
   "source": [
    "print(delete_game(\"683a8fa5d4b1bfdc5b2faa46\"))"
   ]
  },
  {
   "cell_type": "code",
   "execution_count": 20,
   "id": "5dddf4ef",
   "metadata": {},
   "outputs": [
    {
     "name": "stdout",
     "output_type": "stream",
     "text": [
      "(200, [])\n"
     ]
    }
   ],
   "source": [
    "print(get_active_games())"
   ]
  },
  {
   "cell_type": "code",
   "execution_count": 23,
   "id": "64e97e53",
   "metadata": {},
   "outputs": [
    {
     "name": "stdout",
     "output_type": "stream",
     "text": [
      "683ac4e273255e3a3aa2a7cf\n"
     ]
    }
   ],
   "source": [
    "# Create simple game\n",
    "id1 = \"681fdb709d14dcc91d530575\"\n",
    "id2 = \"6826db221601e717a6843e86\"\n",
    "_, game_dict = create_game(\"ethantestgame\", \"simple\")\n",
    "print(game_dict)\n",
    "add_user_to_game(game_dict[\"id\"],id1)\n",
    "add_user_to_game(game_dict[\"id\"],id2)\n",
    "start_game(game_dict[\"id\"])\n",
    "print(game_dict[\"id\"])"
   ]
  },
  {
   "cell_type": "code",
   "execution_count": null,
   "execution_count": null,
   "id": "d17bd576",
   "metadata": {},
   "outputs": [
    {
     "ename": "NameError",
     "evalue": "name 'get_active_game_debug' is not defined",
     "output_type": "error",
     "traceback": [
      "\u001b[31m---------------------------------------------------------------------------\u001b[39m",
      "\u001b[31mNameError\u001b[39m                                 Traceback (most recent call last)",
      "\u001b[36mCell\u001b[39m\u001b[36m \u001b[39m\u001b[32mIn[3]\u001b[39m\u001b[32m, line 1\u001b[39m\n\u001b[32m----> \u001b[39m\u001b[32m1\u001b[39m \u001b[38;5;28mprint\u001b[39m(\u001b[43mget_active_game_debug\u001b[49m(\u001b[33m\"\u001b[39m\u001b[33m683ac1bb02459a1ed76a449c\u001b[39m\u001b[33m\"\u001b[39m))\n",
      "\u001b[31mNameError\u001b[39m: name 'get_active_game_debug' is not defined"
     "ename": "NameError",
     "evalue": "name 'get_active_game_debug' is not defined",
     "output_type": "error",
     "traceback": [
      "\u001b[31m---------------------------------------------------------------------------\u001b[39m",
      "\u001b[31mNameError\u001b[39m                                 Traceback (most recent call last)",
      "\u001b[36mCell\u001b[39m\u001b[36m \u001b[39m\u001b[32mIn[3]\u001b[39m\u001b[32m, line 1\u001b[39m\n\u001b[32m----> \u001b[39m\u001b[32m1\u001b[39m \u001b[38;5;28mprint\u001b[39m(\u001b[43mget_active_game_debug\u001b[49m(\u001b[33m\"\u001b[39m\u001b[33m683ac1bb02459a1ed76a449c\u001b[39m\u001b[33m\"\u001b[39m))\n",
      "\u001b[31mNameError\u001b[39m: name 'get_active_game_debug' is not defined"
     ]
    }
   ],
   "source": [
    "print(get_active_game_debug(game_dict[\"id\"]))"
   ]
  },
  {
   "cell_type": "code",
   "execution_count": 24,
   "execution_count": 24,
   "id": "e53a9dd6",
   "metadata": {},
   "outputs": [
    {
     "name": "stdout",
     "output_type": "stream",
     "text": [
      "Connected to WebSocket\n",
      "{'owners': {'681fdb709d14dcc91d530575': {'cards': [{'rank': 1, 'suit': 1}, {'rank': 2, 'suit': 1}, {'rank': 3, 'suit': 1}, {'rank': 4, 'suit': 1}, {'rank': 5, 'suit': 1}, {'rank': 6, 'suit': 1}, {'rank': 7, 'suit': 1}, {'rank': 8, 'suit': 1}, {'rank': 9, 'suit': 1}, {'rank': 10, 'suit': 1}], 'is_player': True}, '6826db221601e717a6843e86': {'cards': [{'rank': 1, 'suit': 2}, {'rank': 2, 'suit': 2}, {'rank': 3, 'suit': 2}, {'rank': 4, 'suit': 2}, {'rank': 5, 'suit': 2}, {'rank': 6, 'suit': 2}, {'rank': 7, 'suit': 2}, {'rank': 8, 'suit': 2}, {'rank': 9, 'suit': 2}, {'rank': 10, 'suit': 2}], 'is_player': True}}, 'current_player': '681fdb709d14dcc91d530575', 'last_turn': {'player': '', 'transactions': [], 'type': 0}, 'player_status': {'681fdb709d14dcc91d530575': 0, '6826db221601e717a6843e86': 0}, 'status': 0}\n"
     ]
    },
    {
     "ename": "CancelledError",
     "evalue": "",
     "output_type": "error",
     "traceback": [
      "\u001b[31m---------------------------------------------------------------------------\u001b[39m",
      "\u001b[31mCancelledError\u001b[39m                            Traceback (most recent call last)",
      "\u001b[36mCell\u001b[39m\u001b[36m \u001b[39m\u001b[32mIn[24]\u001b[39m\u001b[32m, line 1\u001b[39m\n\u001b[32m----> \u001b[39m\u001b[32m1\u001b[39m \u001b[38;5;28;01mawait\u001b[39;00m listen(game_dict[\u001b[33m\"\u001b[39m\u001b[33mid\u001b[39m\u001b[33m\"\u001b[39m])\n",
      "\u001b[36mCell\u001b[39m\u001b[36m \u001b[39m\u001b[32mIn[6]\u001b[39m\u001b[32m, line 58\u001b[39m, in \u001b[36mlisten\u001b[39m\u001b[34m(game_id)\u001b[39m\n\u001b[32m     56\u001b[39m \u001b[38;5;28mprint\u001b[39m(\u001b[33m\"\u001b[39m\u001b[33mConnected to WebSocket\u001b[39m\u001b[33m\"\u001b[39m)\n\u001b[32m     57\u001b[39m \u001b[38;5;28;01mwhile\u001b[39;00m \u001b[38;5;28;01mTrue\u001b[39;00m:\n\u001b[32m---> \u001b[39m\u001b[32m58\u001b[39m     message = \u001b[38;5;28;01mawait\u001b[39;00m websocket.recv()\n\u001b[32m     59\u001b[39m     data = json.loads(message)\n\u001b[32m     60\u001b[39m     \u001b[38;5;28mprint\u001b[39m(data)\n",
      "\u001b[36mFile \u001b[39m\u001b[32m~/PROJECTS/35Lproject/.venv/lib/python3.12/site-packages/websockets/asyncio/connection.py:303\u001b[39m, in \u001b[36mConnection.recv\u001b[39m\u001b[34m(self, decode)\u001b[39m\n\u001b[32m    256\u001b[39m \u001b[38;5;250m\u001b[39m\u001b[33;03m\"\"\"\u001b[39;00m\n\u001b[32m    257\u001b[39m \u001b[33;03mReceive the next message.\u001b[39;00m\n\u001b[32m    258\u001b[39m \n\u001b[32m   (...)\u001b[39m\u001b[32m    300\u001b[39m \n\u001b[32m    301\u001b[39m \u001b[33;03m\"\"\"\u001b[39;00m\n\u001b[32m    302\u001b[39m \u001b[38;5;28;01mtry\u001b[39;00m:\n\u001b[32m--> \u001b[39m\u001b[32m303\u001b[39m     \u001b[38;5;28;01mreturn\u001b[39;00m \u001b[38;5;28;01mawait\u001b[39;00m \u001b[38;5;28mself\u001b[39m.recv_messages.get(decode)\n\u001b[32m    304\u001b[39m \u001b[38;5;28;01mexcept\u001b[39;00m \u001b[38;5;167;01mEOFError\u001b[39;00m:\n\u001b[32m    305\u001b[39m     \u001b[38;5;28;01mpass\u001b[39;00m\n",
      "\u001b[36mFile \u001b[39m\u001b[32m~/PROJECTS/35Lproject/.venv/lib/python3.12/site-packages/websockets/asyncio/messages.py:159\u001b[39m, in \u001b[36mAssembler.get\u001b[39m\u001b[34m(self, decode)\u001b[39m\n\u001b[32m    154\u001b[39m \u001b[38;5;66;03m# Locking with get_in_progress prevents concurrent execution\u001b[39;00m\n\u001b[32m    155\u001b[39m \u001b[38;5;66;03m# until get() fetches a complete message or is canceled.\u001b[39;00m\n\u001b[32m    157\u001b[39m \u001b[38;5;28;01mtry\u001b[39;00m:\n\u001b[32m    158\u001b[39m     \u001b[38;5;66;03m# First frame\u001b[39;00m\n\u001b[32m--> \u001b[39m\u001b[32m159\u001b[39m     frame = \u001b[38;5;28;01mawait\u001b[39;00m \u001b[38;5;28mself\u001b[39m.frames.get(\u001b[38;5;129;01mnot\u001b[39;00m \u001b[38;5;28mself\u001b[39m.closed)\n\u001b[32m    160\u001b[39m     \u001b[38;5;28mself\u001b[39m.maybe_resume()\n\u001b[32m    161\u001b[39m     \u001b[38;5;28;01massert\u001b[39;00m frame.opcode \u001b[38;5;129;01mis\u001b[39;00m OP_TEXT \u001b[38;5;129;01mor\u001b[39;00m frame.opcode \u001b[38;5;129;01mis\u001b[39;00m OP_BINARY\n",
      "\u001b[36mFile \u001b[39m\u001b[32m~/PROJECTS/35Lproject/.venv/lib/python3.12/site-packages/websockets/asyncio/messages.py:51\u001b[39m, in \u001b[36mSimpleQueue.get\u001b[39m\u001b[34m(self, block)\u001b[39m\n\u001b[32m     49\u001b[39m \u001b[38;5;28mself\u001b[39m.get_waiter = \u001b[38;5;28mself\u001b[39m.loop.create_future()\n\u001b[32m     50\u001b[39m \u001b[38;5;28;01mtry\u001b[39;00m:\n\u001b[32m---> \u001b[39m\u001b[32m51\u001b[39m     \u001b[38;5;28;01mawait\u001b[39;00m \u001b[38;5;28mself\u001b[39m.get_waiter\n\u001b[32m     52\u001b[39m \u001b[38;5;28;01mfinally\u001b[39;00m:\n\u001b[32m     53\u001b[39m     \u001b[38;5;28mself\u001b[39m.get_waiter.cancel()\n",
      "\u001b[31mCancelledError\u001b[39m: "
      "Connected to WebSocket\n",
      "{'owners': {'681fdb709d14dcc91d530575': {'cards': [{'rank': 1, 'suit': 1}, {'rank': 2, 'suit': 1}, {'rank': 3, 'suit': 1}, {'rank': 4, 'suit': 1}, {'rank': 5, 'suit': 1}, {'rank': 6, 'suit': 1}, {'rank': 7, 'suit': 1}, {'rank': 8, 'suit': 1}, {'rank': 9, 'suit': 1}, {'rank': 10, 'suit': 1}], 'is_player': True}, '6826db221601e717a6843e86': {'cards': [{'rank': 1, 'suit': 2}, {'rank': 2, 'suit': 2}, {'rank': 3, 'suit': 2}, {'rank': 4, 'suit': 2}, {'rank': 5, 'suit': 2}, {'rank': 6, 'suit': 2}, {'rank': 7, 'suit': 2}, {'rank': 8, 'suit': 2}, {'rank': 9, 'suit': 2}, {'rank': 10, 'suit': 2}], 'is_player': True}}, 'current_player': '681fdb709d14dcc91d530575', 'last_turn': {'player': '', 'transactions': [], 'type': 0}, 'player_status': {'681fdb709d14dcc91d530575': 0, '6826db221601e717a6843e86': 0}, 'status': 0}\n"
     ]
    },
    {
     "ename": "CancelledError",
     "evalue": "",
     "output_type": "error",
     "traceback": [
      "\u001b[31m---------------------------------------------------------------------------\u001b[39m",
      "\u001b[31mCancelledError\u001b[39m                            Traceback (most recent call last)",
      "\u001b[36mCell\u001b[39m\u001b[36m \u001b[39m\u001b[32mIn[24]\u001b[39m\u001b[32m, line 1\u001b[39m\n\u001b[32m----> \u001b[39m\u001b[32m1\u001b[39m \u001b[38;5;28;01mawait\u001b[39;00m listen(game_dict[\u001b[33m\"\u001b[39m\u001b[33mid\u001b[39m\u001b[33m\"\u001b[39m])\n",
      "\u001b[36mCell\u001b[39m\u001b[36m \u001b[39m\u001b[32mIn[6]\u001b[39m\u001b[32m, line 58\u001b[39m, in \u001b[36mlisten\u001b[39m\u001b[34m(game_id)\u001b[39m\n\u001b[32m     56\u001b[39m \u001b[38;5;28mprint\u001b[39m(\u001b[33m\"\u001b[39m\u001b[33mConnected to WebSocket\u001b[39m\u001b[33m\"\u001b[39m)\n\u001b[32m     57\u001b[39m \u001b[38;5;28;01mwhile\u001b[39;00m \u001b[38;5;28;01mTrue\u001b[39;00m:\n\u001b[32m---> \u001b[39m\u001b[32m58\u001b[39m     message = \u001b[38;5;28;01mawait\u001b[39;00m websocket.recv()\n\u001b[32m     59\u001b[39m     data = json.loads(message)\n\u001b[32m     60\u001b[39m     \u001b[38;5;28mprint\u001b[39m(data)\n",
      "\u001b[36mFile \u001b[39m\u001b[32m~/PROJECTS/35Lproject/.venv/lib/python3.12/site-packages/websockets/asyncio/connection.py:303\u001b[39m, in \u001b[36mConnection.recv\u001b[39m\u001b[34m(self, decode)\u001b[39m\n\u001b[32m    256\u001b[39m \u001b[38;5;250m\u001b[39m\u001b[33;03m\"\"\"\u001b[39;00m\n\u001b[32m    257\u001b[39m \u001b[33;03mReceive the next message.\u001b[39;00m\n\u001b[32m    258\u001b[39m \n\u001b[32m   (...)\u001b[39m\u001b[32m    300\u001b[39m \n\u001b[32m    301\u001b[39m \u001b[33;03m\"\"\"\u001b[39;00m\n\u001b[32m    302\u001b[39m \u001b[38;5;28;01mtry\u001b[39;00m:\n\u001b[32m--> \u001b[39m\u001b[32m303\u001b[39m     \u001b[38;5;28;01mreturn\u001b[39;00m \u001b[38;5;28;01mawait\u001b[39;00m \u001b[38;5;28mself\u001b[39m.recv_messages.get(decode)\n\u001b[32m    304\u001b[39m \u001b[38;5;28;01mexcept\u001b[39;00m \u001b[38;5;167;01mEOFError\u001b[39;00m:\n\u001b[32m    305\u001b[39m     \u001b[38;5;28;01mpass\u001b[39;00m\n",
      "\u001b[36mFile \u001b[39m\u001b[32m~/PROJECTS/35Lproject/.venv/lib/python3.12/site-packages/websockets/asyncio/messages.py:159\u001b[39m, in \u001b[36mAssembler.get\u001b[39m\u001b[34m(self, decode)\u001b[39m\n\u001b[32m    154\u001b[39m \u001b[38;5;66;03m# Locking with get_in_progress prevents concurrent execution\u001b[39;00m\n\u001b[32m    155\u001b[39m \u001b[38;5;66;03m# until get() fetches a complete message or is canceled.\u001b[39;00m\n\u001b[32m    157\u001b[39m \u001b[38;5;28;01mtry\u001b[39;00m:\n\u001b[32m    158\u001b[39m     \u001b[38;5;66;03m# First frame\u001b[39;00m\n\u001b[32m--> \u001b[39m\u001b[32m159\u001b[39m     frame = \u001b[38;5;28;01mawait\u001b[39;00m \u001b[38;5;28mself\u001b[39m.frames.get(\u001b[38;5;129;01mnot\u001b[39;00m \u001b[38;5;28mself\u001b[39m.closed)\n\u001b[32m    160\u001b[39m     \u001b[38;5;28mself\u001b[39m.maybe_resume()\n\u001b[32m    161\u001b[39m     \u001b[38;5;28;01massert\u001b[39;00m frame.opcode \u001b[38;5;129;01mis\u001b[39;00m OP_TEXT \u001b[38;5;129;01mor\u001b[39;00m frame.opcode \u001b[38;5;129;01mis\u001b[39;00m OP_BINARY\n",
      "\u001b[36mFile \u001b[39m\u001b[32m~/PROJECTS/35Lproject/.venv/lib/python3.12/site-packages/websockets/asyncio/messages.py:51\u001b[39m, in \u001b[36mSimpleQueue.get\u001b[39m\u001b[34m(self, block)\u001b[39m\n\u001b[32m     49\u001b[39m \u001b[38;5;28mself\u001b[39m.get_waiter = \u001b[38;5;28mself\u001b[39m.loop.create_future()\n\u001b[32m     50\u001b[39m \u001b[38;5;28;01mtry\u001b[39;00m:\n\u001b[32m---> \u001b[39m\u001b[32m51\u001b[39m     \u001b[38;5;28;01mawait\u001b[39;00m \u001b[38;5;28mself\u001b[39m.get_waiter\n\u001b[32m     52\u001b[39m \u001b[38;5;28;01mfinally\u001b[39;00m:\n\u001b[32m     53\u001b[39m     \u001b[38;5;28mself\u001b[39m.get_waiter.cancel()\n",
      "\u001b[31mCancelledError\u001b[39m: "
     ]
    }
   ],
   "source": [
    "await listen(game_dict[\"id\"])"
   ]
  },
  {
   "cell_type": "code",
   "execution_count": null,
   "id": "034d0e27",
   "metadata": {},
   "outputs": [
    {
     "name": "stdout",
     "output_type": "stream",
     "text": [
      "204\n"
     ]
    }
   ],
   "source": [
    "print(play_turn(game_dict[\"id\"], id1, 0, id2, id1, [\"2D\"]))"
   ]
  },
  {
   "cell_type": "code",
   "execution_count": 16,
   "id": "8bc400d2",
   "metadata": {},
   "outputs": [],
   "source": [
    "def get_game_by_id(game_id:str):\n",
    "    response = requests.get(f\"{BASE_URL}/games/{game_id}/get_game\")\n",
    "    return response.status_code, response.json()"
   ]
  },
  {
   "cell_type": "code",
   "execution_count": 17,
   "id": "396fc85e",
   "metadata": {},
   "outputs": [
    {
     "name": "stdout",
     "output_type": "stream",
     "text": [
      "200 {'id': '683b6efc3133c2ed7a8a7da0', 'name': 'ethan', 'type': 'simple', 'players': ['681fdb709d14dcc91d530575']}\n"
     ]
    }
   ],
   "source": [
    "status, response = get_game_by_id(\"683b6efc3133c2ed7a8a7da0\")\n",
    "print(status, response)"
   ]
  }
 ],
 "metadata": {
  "kernelspec": {
   "display_name": ".venv",
   "language": "python",
   "name": "python3"
  },
  "language_info": {
   "codemirror_mode": {
    "name": "ipython",
    "version": 3
   },
   "file_extension": ".py",
   "mimetype": "text/x-python",
   "name": "python",
   "nbconvert_exporter": "python",
   "pygments_lexer": "ipython3",
   "version": "3.13.2"
  }
 },
 "nbformat": 4,
 "nbformat_minor": 5
}
