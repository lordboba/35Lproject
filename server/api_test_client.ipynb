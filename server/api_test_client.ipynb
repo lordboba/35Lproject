{
 "cells": [
  {
   "cell_type": "code",
   "execution_count": 4,
   "id": "46922076",
   "metadata": {},
   "outputs": [],
   "source": [
    "import requests\n",
    "import asyncio\n",
    "import json\n",
    "import websockets\n",
    "\n",
    "BASE_URL = \"http://localhost:8000\" \n",
    "\n",
    "def add_user(firebase_uid: str, name: str):\n",
    "    user_model = {\"firebase_uid\": firebase_uid, \"name\": name}\n",
    "    response = requests.post(f\"{BASE_URL}/users/\", json=user_model)\n",
    "    return response.status_code, response.json()\n",
    "\n",
    "def get_users():\n",
    "    response = requests.get(f\"{BASE_URL}/users/\")\n",
    "    return response.status_code, response.json()\n",
    "\n",
    "def get_user(id: str):\n",
    "    response = requests.get(f\"{BASE_URL}/users/{id}\")\n",
    "    return response.status_code, response.json()\n",
    "\n",
    "def update_user(id: str, name: str):\n",
    "    response = requests.put(f\"{BASE_URL}/users/{id}\", json={\"name\": name})\n",
    "    return response.status_code, response.json()\n",
    "\n",
    "def delete_user(id: str):\n",
    "    response = requests.delete(f\"{BASE_URL}/users/{id}\")\n",
    "    return response.status_code\n",
    "\n",
    "def get_games():\n",
    "    response = requests.get(f\"{BASE_URL}/games/\")\n",
    "    return response.status_code, response.json()\n",
    "\n",
    "def create_game(name: str, game_type: str):\n",
    "    response = requests.post(f\"{BASE_URL}/games/\", json={\"name\": name, \"type\": game_type})\n",
    "    return response.status_code, response.json()\n",
    "\n",
    "def add_user_to_game(game_id: str, user_id: str):\n",
    "    response = requests.patch(f\"{BASE_URL}/games/{game_id}/add_user/{user_id}\")\n",
    "    return response.status_code, response.json()\n",
    "\n",
    "def remove_user_from_game(game_id: str, user_id: str):\n",
    "    response = requests.patch(f\"{BASE_URL}/games/{game_id}/remove_user/{user_id}\")\n",
    "    return response.status_code, response.json()\n",
    "\n",
    "def start_game(game_id: str):\n",
    "    response = requests.patch(f\"{BASE_URL}/games/{game_id}/start\")\n",
    "    return response.status_code\n",
    "\n",
    "def delete_game(game_id: str):\n",
    "    response = requests.delete(f\"{BASE_URL}/games/{game_id}\")\n",
    "    return response.status_code\n",
    "\n",
    "async def listen(game_id):\n",
    "    uri = f\"ws://localhost:8000/game/ws/{game_id}\"  # Replace with your server URL\n",
    "    async with websockets.connect(uri) as websocket:\n",
    "        print(\"Connected to WebSocket\")\n",
    "        while True:\n",
    "            message = await websocket.recv()\n",
    "            data = json.loads(message)\n",
    "            print(data)\n",
    "\n",
    "def get_active_games():\n",
    "    response = requests.get(f\"{BASE_URL}/games/active\")\n",
    "    return response.status_code, response.json()\n",
    "\n",
    "def get_active_game_debug(game_id: str):\n",
    "    response = requests.get(f\"{BASE_URL}/games/active/{game_id}/debug\")\n",
    "    return response.status_code, response.json()\n",
    "\n",
    "def play_turn(game_id: str, player_id: str, turn_type: int, sender_id: str, receiver_id: str, cards: list[str]):\n",
    "    suit_dict = {\"J\":0, \"C\":1, \"D\":2, \"H\":3, \"S\":4}\n",
    "    rank_dict = {\"0\":0, \"A\":1, \"2\":2, \"3\":3, \"4\":4, \"5\":5, \"6\":6, \"7\":7, \"8\":8, \"9\":9, \"T\":10, \"J\":11, \"Q\":12, \"K\":13}\n",
    "    turn = {\"player\":player_id, \"transactions\":[{\"sender\":sender_id, \"receiver\":receiver_id, \"card\":{\"rank\":rank_dict[card[0]], \"suit\":suit_dict[card[1]]}} for card in cards], \"type\":turn_type}\n",
    "    response = requests.patch(f\"{BASE_URL}/games/{game_id}/play\", json=turn)\n",
    "    return response.status_code\n",
    "            "
   ]
  },
  {
   "cell_type": "code",
   "execution_count": 25,
   "id": "e11e063a",
   "metadata": {},
   "outputs": [
    {
     "name": "stdout",
     "output_type": "stream",
     "text": [
      "(409, {'detail': 'User with Firebase UID 12345test already exists.'})\n"
     ]
    }
   ],
   "source": [
    "print(add_user(\"12345test\",\"ethantest\"))"
   ]
  },
  {
   "cell_type": "code",
   "execution_count": 5,
   "id": "4aad997a",
   "metadata": {},
   "outputs": [
    {
     "name": "stdout",
     "output_type": "stream",
     "text": [
      "(200, {'users': [{'id': '681fdb709d14dcc91d530575', 'firebase_uid': 'dJ84cRICX2MtkzOi9ceaK333QPQ2', 'name': 'lordboba', 'games': 0, 'wins': 0, 'username_set': True}, {'id': '6826db221601e717a6843e86', 'firebase_uid': 'abc123firebase', 'name': 'cool_user', 'games': 0, 'wins': 0, 'username_set': True}, {'id': '6826dce6e8bce8f5a061dfdc', 'firebase_uid': 'test-uid-123', 'name': None, 'games': 0, 'wins': 0, 'username_set': False}, {'id': '6826dd2b1601e717a6843e87', 'firebase_uid': 'hkrwtgoIy7bJRttAASiFyLCtkUs1', 'name': 'ethan', 'games': 0, 'wins': 0, 'username_set': True}, {'id': '68277f750a9dcc37ba836316', 'firebase_uid': 'abc456firebase', 'name': 'cool_user2', 'games': 0, 'wins': 0, 'username_set': True}, {'id': '68301436790d5199715e3f23', 'firebase_uid': 'q8VI2Km6zGPl9O4Lxinz7iYe5q22', 'name': 'the_ceo_of_sex', 'games': 0, 'wins': 0, 'username_set': True}, {'id': '6837f791cbffc2471fcdbbde', 'firebase_uid': 'IbV9V4Y8fuPlGvnGptwzSnI3jEI3', 'name': 'test1', 'games': 0, 'wins': 0, 'username_set': True}, {'id': '683a675369ced386983f0fa7', 'firebase_uid': '12345test', 'name': 'ethantest2', 'games': 0, 'wins': 0, 'username_set': True}]})\n"
     ]
    }
   ],
   "source": [
    "print(get_users())"
   ]
  },
  {
   "cell_type": "code",
   "execution_count": 15,
   "id": "8d5110c8",
   "metadata": {},
   "outputs": [
    {
     "name": "stdout",
     "output_type": "stream",
     "text": [
      "(200, {'id': '683a675369ced386983f0fa7', 'firebase_uid': '12345test', 'name': 'ethantest', 'games': 0, 'wins': 0, 'username_set': True})\n"
     ]
    }
   ],
   "source": [
    "print(get_user(\"683a675369ced386983f0fa7\"))"
   ]
  },
  {
   "cell_type": "code",
   "execution_count": 16,
   "id": "011026cf",
   "metadata": {},
   "outputs": [
    {
     "name": "stdout",
     "output_type": "stream",
     "text": [
      "(200, {'id': '683a675369ced386983f0fa7', 'firebase_uid': '12345test', 'name': 'ethantest2', 'games': 0, 'wins': 0, 'username_set': True})\n"
     ]
    }
   ],
   "source": [
    "print(update_user(\"683a675369ced386983f0fa7\",\"ethantest2\"))"
   ]
  },
  {
   "cell_type": "code",
   "execution_count": 10,
   "id": "9d3d2858",
   "metadata": {},
   "outputs": [
    {
     "name": "stdout",
     "output_type": "stream",
     "text": [
      "204\n"
     ]
    }
   ],
   "source": [
    "print(delete_user(\"6830065c317d37d03524150f\"))"
   ]
  },
  {
   "cell_type": "code",
   "execution_count": 29,
   "id": "cdf54b6a",
   "metadata": {},
   "outputs": [
    {
     "name": "stdout",
     "output_type": "stream",
     "text": [
      "(200, {'games': [{'id': '682ed1647e56583072af0a58', 'name': 'ethantestgame', 'type': 'simple', 'players': ['681fdb709d14dcc91d530575', '6826db221601e717a6843e86']}, {'id': '6830065c317d37d035241510', 'name': 'ethantestgame', 'type': 'simple', 'players': []}, {'id': '68300686317d37d035241512', 'name': 'ethantestgame', 'type': 'simple', 'players': []}, {'id': '6837f44b4e51b439f08f653b', 'name': 'ethantestgame', 'type': 'simple', 'players': ['681fdb709d14dcc91d530575', '6826db221601e717a6843e86']}, {'id': '6837fc534476a894c82e8c97', 'name': 'pookie', 'type': 'standard', 'players': []}, {'id': '68380aef9e81c8d9c16d04fe', 'name': 'pookie', 'type': 'simple', 'players': []}, {'id': '68380af49e81c8d9c16d04ff', 'name': 'pookie', 'type': 'simple', 'players': []}, {'id': '68380b959e81c8d9c16d0500', 'name': 'pookie', 'type': 'simple', 'players': []}, {'id': '683a7bcb751efd34a3fc18b8', 'name': 'ethantestgame', 'type': 'vietcong', 'players': ['681fdb709d14dcc91d530575', '6826db221601e717a6843e86', '6826dce6e8bce8f5a061dfdc', '6826dd2b1601e717a6843e87']}]})\n"
     ]
    }
   ],
   "source": [
    "print(get_games())"
   ]
  },
  {
   "cell_type": "code",
   "execution_count": 11,
   "id": "d604de1b",
   "metadata": {},
   "outputs": [
    {
     "name": "stdout",
     "output_type": "stream",
     "text": [
      "(200, {'id': '683a8fa5d4b1bfdc5b2faa46', 'name': 'tejtestgame', 'type': 'simple', 'players': []})\n"
     ]
    }
   ],
   "source": [
    "print(create_game(\"tejtestgame\", \"simple\"))"
   ]
  },
  {
   "cell_type": "code",
   "execution_count": 16,
   "id": "fc44e5a2",
   "metadata": {},
   "outputs": [
    {
     "name": "stdout",
     "output_type": "stream",
     "text": [
      "(200, {'id': '683a8fa5d4b1bfdc5b2faa46', 'name': 'tejtestgame', 'type': 'simple', 'players': ['681fdb709d14dcc91d530575']})\n"
     ]
    }
   ],
   "source": [
    "print(add_user_to_game(\"683a8fa5d4b1bfdc5b2faa46\",\"681fdb709d14dcc91d530575\"))"
   ]
  },
  {
   "cell_type": "code",
   "execution_count": 13,
   "id": "7cc1a15e",
   "metadata": {},
   "outputs": [
    {
     "name": "stdout",
     "output_type": "stream",
     "text": [
      "(200, {'id': '683a8fa5d4b1bfdc5b2faa46', 'name': 'tejtestgame', 'type': 'simple', 'players': []})\n"
     ]
    }
   ],
   "source": [
    "print(remove_user_from_game(\"683a8fa5d4b1bfdc5b2faa46\",\"681fdb709d14dcc91d530575\"))"
   ]
  },
  {
   "cell_type": "code",
   "execution_count": 19,
   "id": "b19a1bac",
   "metadata": {},
   "outputs": [
    {
     "name": "stdout",
     "output_type": "stream",
     "text": [
      "400\n"
     ]
    }
   ],
   "source": [
    "print(start_game(\"683a8fa5d4b1bfdc5b2faa46\"))"
   ]
  },
  {
   "cell_type": "code",
   "execution_count": null,
   "id": "2057abfd",
   "metadata": {},
   "outputs": [
    {
     "name": "stdout",
     "output_type": "stream",
     "text": [
      "404\n"
     ]
    }
   ],
   "source": [
    "print(delete_game(\"683a8fa5d4b1bfdc5b2faa46\"))"
   ]
  },
  {
   "cell_type": "code",
   "execution_count": 26,
   "id": "5dddf4ef",
   "metadata": {},
   "outputs": [
    {
     "name": "stdout",
     "output_type": "stream",
     "text": [
      "(200, [])\n"
     ]
    }
   ],
   "source": [
    "print(get_active_games())"
   ]
  },
  {
   "cell_type": "code",
   "execution_count": 6,
   "id": "64e97e53",
   "metadata": {},
   "outputs": [
    {
     "name": "stdout",
     "output_type": "stream",
     "text": [
      "683a8a87d4b1bfdc5b2faa40\n"
     ]
    }
   ],
   "source": [
    "# Create simple game\n",
    "id1 = \"681fdb709d14dcc91d530575\"\n",
    "id2 = \"6826db221601e717a6843e86\"\n",
    "_, game_dict = create_game(\"ethantestgame\", \"simple\")\n",
    "add_user_to_game(game_dict[\"id\"],id1)\n",
    "add_user_to_game(game_dict[\"id\"],id2)\n",
    "start_game(game_dict[\"id\"])\n",
    "print(game_dict[\"id\"])"
   ]
  },
  {
   "cell_type": "code",
   "execution_count": 7,
   "id": "d17bd576",
   "metadata": {},
   "outputs": [
    {
     "name": "stdout",
     "output_type": "stream",
     "text": [
      "(200, ['AC', '2C', '3C', '4C', '5C', '6C', '7C', '8C', '9C', 'TC'])\n"
     ]
    }
   ],
   "source": [
    "print(get_active_game_debug(game_dict[\"id\"]))"
   ]
  },
  {
   "cell_type": "code",
   "execution_count": null,
   "id": "e53a9dd6",
   "metadata": {},
   "outputs": [
    {
     "name": "stdout",
     "output_type": "stream",
     "text": [
      "Connected to WebSocket\n"
     ]
    }
   ],
   "source": [
    "await listen(game_dict[\"id\"])"
   ]
  },
  {
   "cell_type": "code",
   "execution_count": null,
   "id": "034d0e27",
   "metadata": {},
   "outputs": [
    {
     "name": "stdout",
     "output_type": "stream",
     "text": [
      "204\n"
     ]
    }
   ],
   "source": [
    "print(play_turn(game_dict[\"id\"], id1, 0, id2, id1, [\"2D\"]))"
   ]
  }
 ],
 "metadata": {
  "kernelspec": {
   "display_name": ".venv",
   "language": "python",
   "name": "python3"
  },
  "language_info": {
   "codemirror_mode": {
    "name": "ipython",
    "version": 3
   },
   "file_extension": ".py",
   "mimetype": "text/x-python",
   "name": "python",
   "nbconvert_exporter": "python",
   "pygments_lexer": "ipython3",
   "version": "3.12.3"
  }
 },
 "nbformat": 4,
 "nbformat_minor": 5
}
