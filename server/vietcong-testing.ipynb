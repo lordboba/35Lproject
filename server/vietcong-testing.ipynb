{
 "cells": [
  {
   "cell_type": "code",
   "execution_count": 57,
   "metadata": {},
   "outputs": [],
   "source": [
    "import requests\n",
    "import asyncio\n",
    "import json\n",
    "import websockets\n",
    "\n",
    "BASE_URL = \"http://localhost:8000\" \n",
    "\n",
    "def add_user(firebase_uid: str, name: str):\n",
    "    user_model = {\"firebase_uid\": firebase_uid, \"name\": name}\n",
    "    response = requests.post(f\"{BASE_URL}/users/\", json=user_model)\n",
    "    return response.status_code, response.json()\n",
    "\n",
    "def get_users():\n",
    "    response = requests.get(f\"{BASE_URL}/users/\")\n",
    "    return response.status_code, response.json()\n",
    "\n",
    "def get_user(id: str):\n",
    "    response = requests.get(f\"{BASE_URL}/users/{id}\")\n",
    "    return response.status_code, response.json()\n",
    "\n",
    "def get_user_name(name: str):\n",
    "    response = requests.get(f\"{BASE_URL}/users/name/{name}\")\n",
    "    return response.status_code, response.json()\n",
    "\n",
    "def update_user(id: str, name: str):\n",
    "    response = requests.put(f\"{BASE_URL}/users/{id}\", json={\"name\": name})\n",
    "    return response.status_code, response.json()\n",
    "\n",
    "def delete_user(id: str):\n",
    "    response = requests.delete(f\"{BASE_URL}/users/{id}\")\n",
    "    return response.status_code\n",
    "\n",
    "def get_games():\n",
    "    response = requests.get(f\"{BASE_URL}/games/\")\n",
    "    return response.status_code, response.json()\n",
    "\n",
    "def create_game(name: str, game_type: str):\n",
    "    response = requests.post(f\"{BASE_URL}/games/\", json={\"name\": name, \"type\": game_type})\n",
    "    return response.status_code, response.json()\n",
    "\n",
    "def add_user_to_game(game_id: str, user_id: str):\n",
    "    response = requests.patch(f\"{BASE_URL}/games/{game_id}/add_user/{user_id}\")\n",
    "    return response.status_code, response.json()\n",
    "\n",
    "def remove_user_from_game(game_id: str, user_id: str):\n",
    "    response = requests.patch(f\"{BASE_URL}/games/{game_id}/remove_user/{user_id}\")\n",
    "    return response.status_code, response.json()\n",
    "\n",
    "def start_game(game_id: str):\n",
    "    response = requests.patch(f\"{BASE_URL}/games/{game_id}/start\")\n",
    "    return response.status_code\n",
    "\n",
    "def delete_game(game_id: str):\n",
    "    response = requests.delete(f\"{BASE_URL}/games/{game_id}\")\n",
    "    return response.status_code\n",
    "\n",
    "async def listen(game_id):\n",
    "    uri = f\"ws://localhost:8000/game/ws/{game_id}\"  # Replace with your server URL\n",
    "    async with websockets.connect(uri) as websocket:\n",
    "        print(\"Connected to WebSocket\")\n",
    "        while True:\n",
    "            message = await websocket.recv()\n",
    "            data = json.loads(message)\n",
    "            print(data)\n",
    "\n",
    "def get_active_games():\n",
    "    response = requests.get(f\"{BASE_URL}/games/active\")\n",
    "    return response.status_code, response.json()\n",
    "\n",
    "def get_active_game_debug(game_id: str):\n",
    "    response = requests.get(f\"{BASE_URL}/games/active/{game_id}/debug\")\n",
    "    return response.status_code, response.json()\n",
    "\n",
    "def play_turn(game_id: str, player_id: str, turn_type: int, sender_id: str, receiver_id: str, cards: list[str]):\n",
    "    suit_dict = {\"J\":0, \"C\":1, \"D\":2, \"H\":3, \"S\":4}\n",
    "    rank_dict = {\"0\":0, \"A\":1, \"2\":2, \"3\":3, \"4\":4, \"5\":5, \"6\":6, \"7\":7, \"8\":8, \"9\":9, \"T\":10, \"J\":11, \"Q\":12, \"K\":13}\n",
    "    turn = {\"player\":player_id, \"transactions\":[{\"sender\":sender_id, \"receiver\":receiver_id, \"card\":{\"rank\":rank_dict[card[0]], \"suit\":suit_dict[card[1]]}} for card in cards], \"type\":turn_type}\n",
    "    response = requests.patch(f\"{BASE_URL}/games/{game_id}/play\", json=turn)\n",
    "    return response.status_code\n",
    "            "
   ]
  },
  {
   "cell_type": "code",
   "execution_count": 58,
   "metadata": {},
   "outputs": [],
   "source": [
    "# Create vietcong game\n",
    "_, game_dict = create_game(\"vietcongtest\", \"vietcong\")"
   ]
  },
  {
   "cell_type": "code",
   "execution_count": 59,
   "metadata": {},
   "outputs": [
    {
     "name": "stdout",
     "output_type": "stream",
     "text": [
      "['683a992ed4b1bfdc5b2faa4c', '683a992ed4b1bfdc5b2faa4d', '683a992ed4b1bfdc5b2faa4e', '683a992ed4b1bfdc5b2faa4f']\n"
     ]
    }
   ],
   "source": [
    "ids = []\n",
    "for user in [\"vietcongp1\", \"vietcongp2\", \"vietcongp3\", \"vietcongp4\"]:\n",
    "    status, resp = add_user(user, user)\n",
    "    if 'id' in resp:\n",
    "        ids.append(resp['id'])\n",
    "    else:\n",
    "        # Fallback: try to fetch the existing user's info\n",
    "        status, user_obj = get_user_name(user)\n",
    "        ids.append(user_obj['id'])\n",
    "print(ids)\n"
   ]
  },
  {
   "cell_type": "code",
   "execution_count": null,
   "metadata": {},
   "outputs": [],
   "source": []
  },
  {
   "cell_type": "code",
   "execution_count": 39,
   "metadata": {},
   "outputs": [
    {
     "data": {
      "text/plain": [
       "(200,\n",
       " {'id': '683a97c8d4b1bfdc5b2faa4a',\n",
       "  'name': 'vietcongtestgame',\n",
       "  'type': 'simple',\n",
       "  'players': ['681fdb709d14dcc91d530575', '6826db221601e717a6843e86']})"
      ]
     },
     "execution_count": 39,
     "metadata": {},
     "output_type": "execute_result"
    }
   ],
   "source": [
    "add_user_to_game(game_dict[\"id\"],id1)\n",
    "add_user_to_game(game_dict[\"id\"],id2)"
   ]
  },
  {
   "cell_type": "code",
   "execution_count": 40,
   "metadata": {},
   "outputs": [
    {
     "name": "stdout",
     "output_type": "stream",
     "text": [
      "683a97c8d4b1bfdc5b2faa4a\n"
     ]
    }
   ],
   "source": [
    "start_game(game_dict[\"id\"])\n",
    "print(game_dict[\"id\"])"
   ]
  },
  {
   "cell_type": "code",
   "execution_count": 43,
   "metadata": {},
   "outputs": [
    {
     "name": "stdout",
     "output_type": "stream",
     "text": [
      "(200, ['AC', '2C', '3C', '4C', '5C', '6C', '7C', '8C', '9C', 'TC', '2D'])\n"
     ]
    }
   ],
   "source": [
    "print(get_active_game_debug(game_dict[\"id\"]))"
   ]
  },
  {
   "cell_type": "code",
   "execution_count": 42,
   "metadata": {},
   "outputs": [
    {
     "name": "stdout",
     "output_type": "stream",
     "text": [
      "204\n"
     ]
    }
   ],
   "source": [
    "print(play_turn(game_dict[\"id\"], id1, 0, id2, id1, [\"2D\"]))"
   ]
  }
 ],
 "metadata": {
  "kernelspec": {
   "display_name": ".venv",
   "language": "python",
   "name": "python3"
  },
  "language_info": {
   "codemirror_mode": {
    "name": "ipython",
    "version": 3
   },
   "file_extension": ".py",
   "mimetype": "text/x-python",
   "name": "python",
   "nbconvert_exporter": "python",
   "pygments_lexer": "ipython3",
   "version": "3.12.3"
  }
 },
 "nbformat": 4,
 "nbformat_minor": 2
}
