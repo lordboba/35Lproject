{
 "cells": [
  {
   "cell_type": "code",
   "execution_count": 6,
   "metadata": {},
   "outputs": [],
   "source": [
    "import requests\n",
    "import asyncio\n",
    "import json\n",
    "import websockets\n",
    "\n",
    "BASE_URL = \"http://localhost:8000\" \n",
    "\n",
    "def add_user(firebase_uid: str, name: str):\n",
    "    user_model = {\"firebase_uid\": firebase_uid, \"name\": name}\n",
    "    response = requests.post(f\"{BASE_URL}/users/\", json=user_model)\n",
    "    return response.status_code, response.json()\n",
    "\n",
    "def get_users():\n",
    "    response = requests.get(f\"{BASE_URL}/users/\")\n",
    "    return response.status_code, response.json()\n",
    "\n",
    "def get_user(id: str):\n",
    "    response = requests.get(f\"{BASE_URL}/users/{id}\")\n",
    "    return response.status_code, response.json()\n",
    "\n",
    "def get_user_name(name: str):\n",
    "    response = requests.get(f\"{BASE_URL}/users/name/{name}\")\n",
    "    return response.status_code, response.json()\n",
    "\n",
    "def update_user(id: str, name: str):\n",
    "    response = requests.put(f\"{BASE_URL}/users/{id}\", json={\"name\": name})\n",
    "    return response.status_code, response.json()\n",
    "\n",
    "def delete_user(id: str):\n",
    "    response = requests.delete(f\"{BASE_URL}/users/{id}\")\n",
    "    return response.status_code\n",
    "\n",
    "def get_games():\n",
    "    response = requests.get(f\"{BASE_URL}/games/\")\n",
    "    return response.status_code, response.json()\n",
    "\n",
    "def create_game(name: str, game_type: str):\n",
    "    response = requests.post(f\"{BASE_URL}/games/\", json={\"name\": name, \"type\": game_type})\n",
    "    return response.status_code, response.json()\n",
    "\n",
    "def add_user_to_game(game_id: str, user_id: str):\n",
    "    response = requests.patch(f\"{BASE_URL}/games/{game_id}/add_user/{user_id}\")\n",
    "    return response.status_code, response.json()\n",
    "\n",
    "def remove_user_from_game(game_id: str, user_id: str):\n",
    "    response = requests.patch(f\"{BASE_URL}/games/{game_id}/remove_user/{user_id}\")\n",
    "    return response.status_code, response.json()\n",
    "\n",
    "def start_game(game_id: str):\n",
    "    response = requests.patch(f\"{BASE_URL}/games/{game_id}/start\")\n",
    "    return response.status_code\n",
    "\n",
    "def delete_game(game_id: str):\n",
    "    response = requests.delete(f\"{BASE_URL}/games/{game_id}\")\n",
    "    return response.status_code\n",
    "\n",
    "async def listen(game_id):\n",
    "    uri = f\"ws://localhost:8000/game/ws/{game_id}\"  # Replace with your server URL\n",
    "    async with websockets.connect(uri) as websocket:\n",
    "        print(\"Connected to WebSocket\")\n",
    "        while True:\n",
    "            message = await websocket.recv()\n",
    "            data = json.loads(message)\n",
    "            print(data)\n",
    "\n",
    "def get_active_games():\n",
    "    response = requests.get(f\"{BASE_URL}/games/active\")\n",
    "    return response.status_code, response.json()\n",
    "\n",
    "def get_active_game_debug(game_id: str):\n",
    "    response = requests.get(f\"{BASE_URL}/games/active/{game_id}/debug\")\n",
    "    return response.status_code, response.json()\n",
    "\n",
    "def play_turn(game_id: str, player_id: str, turn_type: int, sender_id: str, receiver_id: str, cards: list[str]):\n",
    "    suit_dict = {\"J\":0, \"C\":1, \"D\":2, \"H\":3, \"S\":4}\n",
    "    rank_dict = {\"0\":0, \"A\":1, \"2\":2, \"3\":3, \"4\":4, \"5\":5, \"6\":6, \"7\":7, \"8\":8, \"9\":9, \"T\":10, \"J\":11, \"Q\":12, \"K\":13}\n",
    "    turn = {\"player\":player_id, \"transactions\":[{\"sender\":sender_id, \"receiver\":receiver_id, \"card\":{\"rank\":rank_dict[card[0]], \"suit\":suit_dict[card[1]]}, \"success\":True} for card in cards], \"type\":turn_type}\n",
    "    response = requests.patch(f\"{BASE_URL}/games/{game_id}/play\", json=turn)\n",
    "    return response.status_code"
   ]
  },
  {
   "cell_type": "code",
   "execution_count": 11,
   "metadata": {},
   "outputs": [
    {
     "name": "stdout",
     "output_type": "stream",
     "text": [
      "Connected to WebSocket\n",
      "{'owners': {'683a992ed4b1bfdc5b2faa4c': {'cards': [{'rank': 5, 'suit': 3}, {'rank': 8, 'suit': 2}, {'rank': 4, 'suit': 3}, {'rank': 10, 'suit': 3}, {'rank': 8, 'suit': 1}, {'rank': 9, 'suit': 1}, {'rank': 11, 'suit': 2}, {'rank': 6, 'suit': 4}, {'rank': 7, 'suit': 4}, {'rank': 6, 'suit': 2}, {'rank': 2, 'suit': 2}, {'rank': 2, 'suit': 1}, {'rank': 1, 'suit': 1}], 'is_player': True}, '683a992ed4b1bfdc5b2faa4d': {'cards': [{'rank': 10, 'suit': 4}, {'rank': 7, 'suit': 1}, {'rank': 2, 'suit': 3}, {'rank': 12, 'suit': 2}, {'rank': 4, 'suit': 2}, {'rank': 8, 'suit': 3}, {'rank': 11, 'suit': 4}, {'rank': 1, 'suit': 2}, {'rank': 13, 'suit': 1}, {'rank': 9, 'suit': 3}, {'rank': 10, 'suit': 2}, {'rank': 4, 'suit': 1}, {'rank': 2, 'suit': 4}], 'is_player': True}, '683a992ed4b1bfdc5b2faa4e': {'cards': [{'rank': 11, 'suit': 3}, {'rank': 3, 'suit': 2}, {'rank': 5, 'suit': 1}, {'rank': 12, 'suit': 1}, {'rank': 12, 'suit': 4}, {'rank': 7, 'suit': 3}, {'rank': 3, 'suit': 3}, {'rank': 5, 'suit': 4}, {'rank': 12, 'suit': 3}, {'rank': 13, 'suit': 4}, {'rank': 3, 'suit': 1}, {'rank': 6, 'suit': 3}, {'rank': 9, 'suit': 4}], 'is_player': True}, '683a992ed4b1bfdc5b2faa4f': {'cards': [{'rank': 1, 'suit': 4}, {'rank': 8, 'suit': 4}, {'rank': 13, 'suit': 3}, {'rank': 3, 'suit': 4}, {'rank': 11, 'suit': 1}, {'rank': 4, 'suit': 4}, {'rank': 10, 'suit': 1}, {'rank': 7, 'suit': 2}, {'rank': 5, 'suit': 2}, {'rank': 13, 'suit': 2}, {'rank': 9, 'suit': 2}, {'rank': 1, 'suit': 3}, {'rank': 6, 'suit': 1}], 'is_player': True}, 'pile': {'cards': [], 'is_player': False}}, 'current_player': '683a992ed4b1bfdc5b2faa4f', 'last_turn': {'player': '', 'transactions': [], 'type': 0}, 'player_status': {'683a992ed4b1bfdc5b2faa4c': 0, '683a992ed4b1bfdc5b2faa4d': 0, '683a992ed4b1bfdc5b2faa4e': 0, '683a992ed4b1bfdc5b2faa4f': 0}, 'status': 0}\n",
      "{'owners': {'683a992ed4b1bfdc5b2faa4c': {'cards': [{'rank': 5, 'suit': 3}, {'rank': 8, 'suit': 2}, {'rank': 4, 'suit': 3}, {'rank': 10, 'suit': 3}, {'rank': 8, 'suit': 1}, {'rank': 9, 'suit': 1}, {'rank': 11, 'suit': 2}, {'rank': 6, 'suit': 4}, {'rank': 7, 'suit': 4}, {'rank': 6, 'suit': 2}, {'rank': 2, 'suit': 2}, {'rank': 2, 'suit': 1}, {'rank': 1, 'suit': 1}], 'is_player': True}, '683a992ed4b1bfdc5b2faa4d': {'cards': [{'rank': 10, 'suit': 4}, {'rank': 7, 'suit': 1}, {'rank': 2, 'suit': 3}, {'rank': 12, 'suit': 2}, {'rank': 4, 'suit': 2}, {'rank': 8, 'suit': 3}, {'rank': 11, 'suit': 4}, {'rank': 1, 'suit': 2}, {'rank': 13, 'suit': 1}, {'rank': 9, 'suit': 3}, {'rank': 10, 'suit': 2}, {'rank': 4, 'suit': 1}, {'rank': 2, 'suit': 4}], 'is_player': True}, '683a992ed4b1bfdc5b2faa4e': {'cards': [{'rank': 11, 'suit': 3}, {'rank': 3, 'suit': 2}, {'rank': 5, 'suit': 1}, {'rank': 12, 'suit': 1}, {'rank': 12, 'suit': 4}, {'rank': 7, 'suit': 3}, {'rank': 3, 'suit': 3}, {'rank': 5, 'suit': 4}, {'rank': 12, 'suit': 3}, {'rank': 13, 'suit': 4}, {'rank': 3, 'suit': 1}, {'rank': 6, 'suit': 3}, {'rank': 9, 'suit': 4}], 'is_player': True}, '683a992ed4b1bfdc5b2faa4f': {'cards': [{'rank': 1, 'suit': 4}, {'rank': 8, 'suit': 4}, {'rank': 13, 'suit': 3}, {'rank': 11, 'suit': 1}, {'rank': 4, 'suit': 4}, {'rank': 10, 'suit': 1}, {'rank': 7, 'suit': 2}, {'rank': 5, 'suit': 2}, {'rank': 13, 'suit': 2}, {'rank': 9, 'suit': 2}, {'rank': 1, 'suit': 3}, {'rank': 6, 'suit': 1}], 'is_player': True}, 'pile': {'cards': [{'rank': 3, 'suit': 4}], 'is_player': False}}, 'current_player': '683a992ed4b1bfdc5b2faa4c', 'last_turn': {'player': '683a992ed4b1bfdc5b2faa4f', 'transactions': [{'sender': '683a992ed4b1bfdc5b2faa4f', 'receiver': 'pile', 'card': {'rank': 3, 'suit': 4}, 'success': True}], 'type': 0}, 'player_status': {'683a992ed4b1bfdc5b2faa4c': 0, '683a992ed4b1bfdc5b2faa4d': 0, '683a992ed4b1bfdc5b2faa4e': 0, '683a992ed4b1bfdc5b2faa4f': 0}, 'status': 0}\n"
     ]
    },
    {
     "ename": "ConnectionClosedError",
     "evalue": "received 1012 (service restart); then sent 1012 (service restart)",
     "output_type": "error",
     "traceback": [
      "\u001b[31m---------------------------------------------------------------------------\u001b[39m",
      "\u001b[31mConnectionClosedError\u001b[39m                     Traceback (most recent call last)",
      "\u001b[36mCell\u001b[39m\u001b[36m \u001b[39m\u001b[32mIn[11]\u001b[39m\u001b[32m, line 1\u001b[39m\n\u001b[32m----> \u001b[39m\u001b[32m1\u001b[39m \u001b[38;5;28;01mawait\u001b[39;00m listen(\u001b[33m\"\u001b[39m\u001b[33m683b6afde1cdd0e56b524ce0\u001b[39m\u001b[33m\"\u001b[39m)\n",
      "\u001b[36mCell\u001b[39m\u001b[36m \u001b[39m\u001b[32mIn[6]\u001b[39m\u001b[32m, line 62\u001b[39m, in \u001b[36mlisten\u001b[39m\u001b[34m(game_id)\u001b[39m\n\u001b[32m     60\u001b[39m \u001b[38;5;28mprint\u001b[39m(\u001b[33m\"\u001b[39m\u001b[33mConnected to WebSocket\u001b[39m\u001b[33m\"\u001b[39m)\n\u001b[32m     61\u001b[39m \u001b[38;5;28;01mwhile\u001b[39;00m \u001b[38;5;28;01mTrue\u001b[39;00m:\n\u001b[32m---> \u001b[39m\u001b[32m62\u001b[39m     message = \u001b[38;5;28;01mawait\u001b[39;00m websocket.recv()\n\u001b[32m     63\u001b[39m     data = json.loads(message)\n\u001b[32m     64\u001b[39m     \u001b[38;5;28mprint\u001b[39m(data)\n",
      "\u001b[36mFile \u001b[39m\u001b[32m~/PROJECTS/35Lproject/.venv/lib/python3.12/site-packages/websockets/asyncio/connection.py:322\u001b[39m, in \u001b[36mConnection.recv\u001b[39m\u001b[34m(self, decode)\u001b[39m\n\u001b[32m    318\u001b[39m     \u001b[38;5;66;03m# fallthrough\u001b[39;00m\n\u001b[32m    319\u001b[39m \n\u001b[32m    320\u001b[39m \u001b[38;5;66;03m# Wait for the protocol state to be CLOSED before accessing close_exc.\u001b[39;00m\n\u001b[32m    321\u001b[39m \u001b[38;5;28;01mawait\u001b[39;00m asyncio.shield(\u001b[38;5;28mself\u001b[39m.connection_lost_waiter)\n\u001b[32m--> \u001b[39m\u001b[32m322\u001b[39m \u001b[38;5;28;01mraise\u001b[39;00m \u001b[38;5;28mself\u001b[39m.protocol.close_exc \u001b[38;5;28;01mfrom\u001b[39;00m\u001b[38;5;250m \u001b[39m\u001b[34;01mself\u001b[39;00m\u001b[34;01m.\u001b[39;00m\u001b[34;01mrecv_exc\u001b[39;00m\n",
      "\u001b[31mConnectionClosedError\u001b[39m: received 1012 (service restart); then sent 1012 (service restart)"
     ]
    }
   ],
   "source": [
    "await listen(\"683b6afde1cdd0e56b524ce0\")"
   ]
  }
 ],
 "metadata": {
  "kernelspec": {
   "display_name": ".venv",
   "language": "python",
   "name": "python3"
  },
  "language_info": {
   "codemirror_mode": {
    "name": "ipython",
    "version": 3
   },
   "file_extension": ".py",
   "mimetype": "text/x-python",
   "name": "python",
   "nbconvert_exporter": "python",
   "pygments_lexer": "ipython3",
   "version": "3.12.3"
  }
 },
 "nbformat": 4,
 "nbformat_minor": 2
}
